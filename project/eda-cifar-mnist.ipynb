{
 "cells": [
  {
   "cell_type": "code",
   "execution_count": 100,
   "metadata": {},
   "outputs": [],
   "source": [
    "import torch\n",
    "import numpy as np\n",
    "import matplotlib.pyplot as plt\n",
    "from torchvision import datasets\n",
    "from torchvision import transforms\n",
    "\n",
    "\n",
    "def get_transforms(std=0.5, mean=0.5):\n",
    "    return transforms.Compose([\n",
    "        transforms.ToTensor(),\n",
    "        transforms.Normalize((mean,), (std,))\n",
    "    ])\n",
    "    \n",
    "def cut_data(data, first_proportion=0.8):\n",
    "    first_size = int(len(data) * first_proportion)\n",
    "    second_size = len(data) - first_size\n",
    "    first_data, second_data = torch.utils.data.random_split(data, [first_size, second_size])\n",
    "    return first_data, second_data\n",
    "\n",
    "def get_data_MNIST(std=0.5, mean=0.5, train_size=0.8):\n",
    "    train_data = datasets.MNIST(root='data', train=True, transform=get_transforms(std, mean), download=True)\n",
    "    test_data = datasets.MNIST(root='data', train=False, transform=get_transforms(std, mean), download=True)\n",
    "    train_data, val_data = cut_data(train_data, train_size)\n",
    "    return train_data, val_data, test_data\n",
    "\n",
    "def get_data_CIFAR10(std=0.5, mean=0.5, train_size=0.8):\n",
    "    train_data = datasets.CIFAR10(root='data', train=True, transform=get_transforms(std, mean), download=True)\n",
    "    test_data = datasets.CIFAR10(root='data', train=False, transform=get_transforms(std, mean), download=True)\n",
    "    train_data, val_data = cut_data(train_data, train_size)\n",
    "    return train_data, val_data, test_data\n",
    "\n",
    "def inspect(data):\n",
    "    print(f\"Data type: {type(data)}\")\n",
    "    print(f\"Data length: {len(data)}\")\n",
    "    print(f\"Data shape: {data[0][0].shape}\")\n",
    "    \n",
    "def check_data(train_data, val_data, test_data):\n",
    "    inspect(train_data)\n",
    "    inspect(val_data)\n",
    "    inspect(test_data)\n",
    "    # Total de datos\n",
    "    print(f\"Total data: {len(train_data) + len(val_data) + len(test_data)}\\n\")"
   ]
  },
  {
   "cell_type": "code",
   "execution_count": 104,
   "metadata": {},
   "outputs": [
    {
     "name": "stdout",
     "output_type": "stream",
     "text": [
      "Data type: <class 'torch.utils.data.dataset.Subset'>\n",
      "Data length: 48000\n",
      "Data shape: torch.Size([1, 28, 28])\n",
      "Data type: <class 'torch.utils.data.dataset.Subset'>\n",
      "Data length: 12000\n",
      "Data shape: torch.Size([1, 28, 28])\n",
      "Data type: <class 'torchvision.datasets.mnist.MNIST'>\n",
      "Data length: 10000\n",
      "Data shape: torch.Size([1, 28, 28])\n",
      "Total data: 70000\n",
      "\n",
      "Files already downloaded and verified\n",
      "Files already downloaded and verified\n",
      "Data type: <class 'torch.utils.data.dataset.Subset'>\n",
      "Data length: 40000\n",
      "Data shape: torch.Size([3, 32, 32])\n",
      "Data type: <class 'torch.utils.data.dataset.Subset'>\n",
      "Data length: 10000\n",
      "Data shape: torch.Size([3, 32, 32])\n",
      "Data type: <class 'torchvision.datasets.cifar.CIFAR10'>\n",
      "Data length: 10000\n",
      "Data shape: torch.Size([3, 32, 32])\n",
      "Total data: 60000\n",
      "\n"
     ]
    }
   ],
   "source": [
    "train_mnist, val_mnist, test_mnist = get_data_MNIST()\n",
    "check_data(train_mnist, val_mnist, test_mnist)\n",
    "train_cifar10, val_cifar10, test_cifar10 = get_data_CIFAR10()\n",
    "check_data(train_cifar10, val_cifar10, test_cifar10)"
   ]
  },
  {
   "cell_type": "code",
   "execution_count": 117,
   "metadata": {},
   "outputs": [],
   "source": [
    "# Plotear una imagen de ejemplo\n",
    "def plot_image(data, index):\n",
    "    image, label = data[index]\n",
    "    fig = plt.figure(figsize=(5, 5))\n",
    "    # Check rgb or grayscale\n",
    "    if image.shape[0] == 1:\n",
    "        image = image[0]\n",
    "        plt.imshow(image, cmap='gray')\n",
    "    else:\n",
    "        image = image.permute(1, 2, 0)\n",
    "        plt.imshow(image)\n",
    "    plt.title(f\"Label: {label}\")"
   ]
  },
  {
   "cell_type": "code",
   "execution_count": 118,
   "metadata": {},
   "outputs": [
    {
     "name": "stderr",
     "output_type": "stream",
     "text": [
      "Clipping input data to the valid range for imshow with RGB data ([0..1] for floats or [0..255] for integers).\n"
     ]
    },
    {
     "data": {
      "image/png": "[encoded data removed]",
      "text/plain": [
       "<Figure size 500x500 with 1 Axes>"
      ]
     },
     "metadata": {},
     "output_type": "display_data"
    },
    {
     "data": {
      "image/png": "[encoded data removed]",
      "text/plain": [
       "<Figure size 500x500 with 1 Axes>"
      ]
     },
     "metadata": {},
     "output_type": "display_data"
    }
   ],
   "source": [
    "plot_image(train_mnist, 10)\n",
    "plot_image(train_cifar10, 10)"
   ]
  }
 ],
 "metadata": {
  "kernelspec": {
   "display_name": ".env",
   "language": "python",
   "name": "python3"
  },
  "language_info": {
   "codemirror_mode": {
    "name": "ipython",
    "version": 3
   },
   "file_extension": ".py",
   "mimetype": "text/x-python",
   "name": "python",
   "nbconvert_exporter": "python",
   "pygments_lexer": "ipython3",
   "version": "3.9.13"
  },
  "orig_nbformat": 4
 },
 "nbformat": 4,
 "nbformat_minor": 2
}
