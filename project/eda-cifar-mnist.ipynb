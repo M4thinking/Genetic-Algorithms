{
 "cells": [
  {
   "cell_type": "code",
   "execution_count": 43,
   "metadata": {},
   "outputs": [],
   "source": [
    "import torch\n",
    "import numpy as np\n",
    "import matplotlib.pyplot as plt\n",
    "import time\n",
    "from torchvision import datasets\n",
    "from torchvision import transforms\n",
    "\n",
    "\n",
    "def get_transforms(std=0.5, mean=0.5):\n",
    "    return transforms.Compose([\n",
    "        transforms.ToTensor(),\n",
    "        transforms.Normalize((mean,), (std,))\n",
    "    ])\n",
    "    \n",
    "def cut_data(data, first_proportion=0.8):\n",
    "    first_size = int(len(data) * first_proportion)\n",
    "    second_size = len(data) - first_size\n",
    "    first_data, second_data = torch.utils.data.random_split(data, [first_size, second_size], generator=torch.Generator().manual_seed(42))\n",
    "    return first_data, second_data\n",
    "\n",
    "def get_data_MNIST(std=0.5, mean=0.5, train_size=0.8):\n",
    "    train_data = datasets.FashionMNIST(root='data', train=True, transform=get_transforms(std, mean), download=True)\n",
    "    test_data = datasets.FashionMNIST(root='data', train=False, transform=get_transforms(std, mean), download=True)\n",
    "    train_data, val_data = cut_data(train_data, train_size)\n",
    "    return train_data, val_data, test_data\n",
    "\n",
    "def get_data_CIFAR10(std=0.5, mean=0.5, train_size=0.8):\n",
    "    train_data = datasets.CIFAR10(root='data', train=True, transform=get_transforms(std, mean), download=True)\n",
    "    test_data = datasets.CIFAR10(root='data', train=False, transform=get_transforms(std, mean), download=True)\n",
    "    train_data, val_data = cut_data(train_data, train_size)\n",
    "    return train_data, val_data, test_data\n",
    "\n",
    "def inspect(data):\n",
    "    print(f\"Data type: {type(data)}\")\n",
    "    print(f\"Data length: {len(data)}\")\n",
    "    print(f\"Data shape: {data[0][0].shape}\")\n",
    "    \n",
    "def check_data(train_data, val_data, test_data):\n",
    "    inspect(train_data)\n",
    "    inspect(val_data)\n",
    "    inspect(test_data)\n",
    "    # Total de datos\n",
    "    print(f\"Total data: {len(train_data) + len(val_data) + len(test_data)}\\n\")"
   ]
  },
  {
   "cell_type": "code",
   "execution_count": 22,
   "metadata": {},
   "outputs": [
    {
     "name": "stdout",
     "output_type": "stream",
     "text": [
      "Data type: <class 'torch.utils.data.dataset.Subset'>\n",
      "Data length: 48000\n",
      "Data shape: torch.Size([1, 28, 28])\n",
      "Data type: <class 'torch.utils.data.dataset.Subset'>\n",
      "Data length: 12000\n",
      "Data shape: torch.Size([1, 28, 28])\n",
      "Data type: <class 'torchvision.datasets.mnist.FashionMNIST'>\n",
      "Data length: 10000\n",
      "Data shape: torch.Size([1, 28, 28])\n",
      "Total data: 70000\n",
      "\n",
      "Files already downloaded and verified\n",
      "Files already downloaded and verified\n",
      "Data type: <class 'torch.utils.data.dataset.Subset'>\n",
      "Data length: 40000\n",
      "Data shape: torch.Size([3, 32, 32])\n",
      "Data type: <class 'torch.utils.data.dataset.Subset'>\n",
      "Data length: 10000\n",
      "Data shape: torch.Size([3, 32, 32])\n",
      "Data type: <class 'torchvision.datasets.cifar.CIFAR10'>\n",
      "Data length: 10000\n",
      "Data shape: torch.Size([3, 32, 32])\n",
      "Total data: 60000\n",
      "\n"
     ]
    }
   ],
   "source": [
    "train_mnist, val_mnist, test_mnist = get_data_MNIST()\n",
    "check_data(train_mnist, val_mnist, test_mnist)\n",
    "train_cifar10, val_cifar10, test_cifar10 = get_data_CIFAR10()\n",
    "check_data(train_cifar10, val_cifar10, test_cifar10)"
   ]
  },
  {
   "cell_type": "code",
   "execution_count": 23,
   "metadata": {},
   "outputs": [],
   "source": [
    "# Plotear una imagen de ejemplo\n",
    "def plot_image(data, index):\n",
    "    image, label = data[index]\n",
    "    fig = plt.figure(figsize=(5, 5))\n",
    "    # Check rgb or grayscale\n",
    "    if image.shape[0] == 1:\n",
    "        image = image[0]\n",
    "        plt.imshow(image, cmap='gray')\n",
    "    else:\n",
    "        image = image.permute(1, 2, 0)\n",
    "        plt.imshow(image)\n",
    "    plt.title(f\"Label: {label}\")"
   ]
  },
  {
   "cell_type": "code",
   "execution_count": 24,
   "metadata": {},
   "outputs": [
    {
     "name": "stderr",
     "output_type": "stream",
     "text": [
      "Clipping input data to the valid range for imshow with RGB data ([0..1] for floats or [0..255] for integers).\n"
     ]
    },
    {
     "data": {
      "image/png": "[encoded data removed]",
      "text/plain": [
       "<Figure size 500x500 with 1 Axes>"
      ]
     },
     "metadata": {},
     "output_type": "display_data"
    },
    {
     "data": {
      "image/png": "[encoded data removed]",
      "text/plain": [
       "<Figure size 500x500 with 1 Axes>"
      ]
     },
     "metadata": {},
     "output_type": "display_data"
    }
   ],
   "source": [
    "plot_image(train_mnist, 10)\n",
    "plot_image(train_cifar10, 10) "
   ]
  },
  {
   "cell_type": "code",
   "execution_count": 26,
   "metadata": {},
   "outputs": [],
   "source": [
    "# Creamos una capa de convolución\n",
    "\n",
    "class ConvLayer(torch.nn.Module):\n",
    "    def __init__(self, in_channels, out_channels, kernel_size, stride=1, padding='same'):\n",
    "        super(ConvLayer, self).__init__()\n",
    "        self.conv = torch.nn.Conv2d(in_channels, out_channels, kernel_size, stride, padding)\n",
    "        self.relu = torch.nn.ReLU()\n",
    "        \n",
    "    def forward(self, x):\n",
    "        return self.relu(self.conv(x))\n",
    "    \n",
    "# Max Pooling + Batch Normalization + Dropout (opcional)\n",
    "class MaxPoolBN(torch.nn.Module): \n",
    "    def __init__(self, in_channels, kernel_size = 2, stride=2, padding=0, dropout=0.1):\n",
    "        super(MaxPoolBN, self).__init__()\n",
    "        self.max_pool = torch.nn.MaxPool2d(kernel_size, stride, padding)\n",
    "        self.bn = torch.nn.BatchNorm2d(in_channels)\n",
    "        self.dropout = torch.nn.Dropout(dropout)\n",
    "        \n",
    "    def forward(self, x):\n",
    "        return self.dropout(self.bn(self.max_pool(x)))\n",
    "    \n",
    "# Capa densa + dropout (opcional)\n",
    "class Dense(torch.nn.Module):\n",
    "    def __init__(self, in_features, out_features, dropout=0.1):\n",
    "        super(Dense, self).__init__()\n",
    "        self.linear = torch.nn.Linear(in_features, out_features)\n",
    "        self.dropout = torch.nn.Dropout(dropout)\n",
    "        \n",
    "    def forward(self, x):\n",
    "        return self.dropout(self.linear(x))\n",
    "    \n",
    "# structure = [N, L1, k1, ..., Ln, kn], con L la cantidad de capas y k el kernel size\n",
    "class ConvNet(torch.nn.Module):\n",
    "    def __init__(self,in_channels, structure, size, classes):\n",
    "        super(ConvNet, self).__init__()\n",
    "        self.size = size\n",
    "        self.structure = structure\n",
    "        self.L = [structure[i] for i in range(len(structure)) if i % 2 == 1]\n",
    "        self.k = [structure[i] for i in range(len(structure)) if i % 2 == 0 and i != 0]\n",
    "        self.layers = torch.nn.ModuleList()\n",
    "        for i in range(len(self.L)):\n",
    "            if i == 0:\n",
    "                self.layers.append(ConvLayer(in_channels, self.L[i], self.k[i]))\n",
    "                self.layers.append(torch.nn.Dropout(0.1))\n",
    "            else:\n",
    "                self.layers.append(ConvLayer(self.L[i-1], self.L[i], self.k[i]))\n",
    "                self.layers.append(torch.nn.Dropout(0.1))\n",
    "                \n",
    "            # Max pooling en cantidad par de capas \n",
    "            if i % 2 == 1:\n",
    "                self.layers.append(MaxPoolBN(self.L[i], 2))\n",
    "                self.size = self.size // 2\n",
    "                \n",
    "        # Caso impares\n",
    "        if len(self.L) % 2 == 1:\n",
    "            self.layers.append(MaxPoolBN(self.L[-1], 2))\n",
    "            self.size = self.size // 2\n",
    "            \n",
    "        # Cabeza clasificadora\n",
    "        self.layers.append(torch.nn.Flatten())\n",
    "        self.layers.append(Dense(self.L[-1] * self.size * self.size, 128))\n",
    "        self.layers.append(torch.nn.Dropout(0.5))\n",
    "        self.layers.append(Dense(128, classes))\n",
    "        if self.size == 0:\n",
    "            self.size=1       \n",
    "    def forward(self, x):\n",
    "        for layer in self.layers:\n",
    "            x = layer(x)\n",
    "        return x\n",
    "    \n",
    "# Profundidad de CIFAR10 (32/2^4 = 2 -> 4x2 capas convolucionales maximo) depth in [2,8]\n",
    "# E:32 --c1--> 32 --c2--> 32 --MP-->\n",
    "# 16 --c3--> 16 --c4--> 16 --MP-->\n",
    "# 8 --c5--> 8 --c6--> 8 --MP-->\n",
    "# 4 --c7--> 4 --c8--> 4 --MP--> 2 "
   ]
  },
  {
   "cell_type": "code",
   "execution_count": 27,
   "metadata": {},
   "outputs": [
    {
     "name": "stdout",
     "output_type": "stream",
     "text": [
      "Files already downloaded and verified\n",
      "Files already downloaded and verified\n"
     ]
    }
   ],
   "source": [
    "# Probar con un batch de entrada 1 x 1 x 28 x 28\n",
    "# Cargamos el dataset de CIFAR10\n",
    "train_data, val_data, test_data = get_data_CIFAR10()"
   ]
  },
  {
   "cell_type": "code",
   "execution_count": 31,
   "metadata": {},
   "outputs": [
    {
     "name": "stdout",
     "output_type": "stream",
     "text": [
      "Input shape: torch.Size([1, 3, 32, 32])\n",
      "ConvNet(\n",
      "  (layers): ModuleList(\n",
      "    (0): ConvLayer(\n",
      "      (conv): Conv2d(3, 16, kernel_size=(3, 3), stride=(1, 1), padding=same)\n",
      "      (relu): ReLU()\n",
      "    )\n",
      "    (1): Dropout(p=0.1, inplace=False)\n",
      "    (2): ConvLayer(\n",
      "      (conv): Conv2d(16, 32, kernel_size=(5, 5), stride=(1, 1), padding=same)\n",
      "      (relu): ReLU()\n",
      "    )\n",
      "    (3): Dropout(p=0.1, inplace=False)\n",
      "    (4): MaxPoolBN(\n",
      "      (max_pool): MaxPool2d(kernel_size=2, stride=2, padding=0, dilation=1, ceil_mode=False)\n",
      "      (bn): BatchNorm2d(32, eps=1e-05, momentum=0.1, affine=True, track_running_stats=True)\n",
      "      (dropout): Dropout(p=0.1, inplace=False)\n",
      "    )\n",
      "    (5): ConvLayer(\n",
      "      (conv): Conv2d(32, 64, kernel_size=(3, 3), stride=(1, 1), padding=same)\n",
      "      (relu): ReLU()\n",
      "    )\n",
      "    (6): Dropout(p=0.1, inplace=False)\n",
      "    (7): MaxPoolBN(\n",
      "      (max_pool): MaxPool2d(kernel_size=2, stride=2, padding=0, dilation=1, ceil_mode=False)\n",
      "      (bn): BatchNorm2d(64, eps=1e-05, momentum=0.1, affine=True, track_running_stats=True)\n",
      "      (dropout): Dropout(p=0.1, inplace=False)\n",
      "    )\n",
      "    (8): Flatten(start_dim=1, end_dim=-1)\n",
      "    (9): Dense(\n",
      "      (linear): Linear(in_features=4096, out_features=128, bias=True)\n",
      "      (dropout): Dropout(p=0.1, inplace=False)\n",
      "    )\n",
      "    (10): Dropout(p=0.5, inplace=False)\n",
      "    (11): Dense(\n",
      "      (linear): Linear(in_features=128, out_features=10, bias=True)\n",
      "      (dropout): Dropout(p=0.1, inplace=False)\n",
      "    )\n",
      "  )\n",
      ")\n"
     ]
    }
   ],
   "source": [
    "# Creamos un modelo de ejemplo\n",
    "structure = [3, 16, 3, 32, 5, 64, 3]\n",
    "\n",
    "# Obtener un ejemplo de entrada\n",
    "x, y = train_data[0]\n",
    "x = x.unsqueeze(0)\n",
    "print(f\"Input shape: {x.shape}\")\n",
    "\n",
    "# Creamos el modelo\n",
    "model = ConvNet(3, structure, size=32, classes=10)\n",
    "print(model)"
   ]
  },
  {
   "cell_type": "code",
   "execution_count": 35,
   "metadata": {},
   "outputs": [
    {
     "name": "stdout",
     "output_type": "stream",
     "text": [
      "Predicted class: 1\n"
     ]
    }
   ],
   "source": [
    "# Probamos el modelo\n",
    "y_pred = model(x)\n",
    "# Mostramos la clase predicha\n",
    "print(f\"Predicted class: {torch.argmax(y_pred)}\")"
   ]
  },
  {
   "cell_type": "code",
   "execution_count": 40,
   "metadata": {},
   "outputs": [],
   "source": [
    "def run_epoch(model, data_loader, criterion, optimizer, device, train=True):\n",
    "    if train:\n",
    "        model.train()\n",
    "    else:\n",
    "        model.eval()\n",
    "    \n",
    "    loss_total = 0\n",
    "    acc_total = 0\n",
    "    for x, y in data_loader:\n",
    "        # Enviamos los datos al dispositivo\n",
    "        x = x.to(device)\n",
    "        y = y.to(device)\n",
    "        # Forward\n",
    "        with torch.set_grad_enabled(train):\n",
    "            y_pred = model(x)\n",
    "            loss = criterion(y_pred, y)\n",
    "        # Backward\n",
    "        if train:\n",
    "            optimizer.zero_grad()\n",
    "            loss.backward()\n",
    "            optimizer.step()\n",
    "        # Acumulamos los resultados\n",
    "        loss_total += loss.item() * x.size(0)\n",
    "        acc_total += (y_pred.argmax(1) == y).sum().item()\n",
    "    # Promediamos los resultados\n",
    "    loss_total /= len(data_loader.dataset)\n",
    "    acc_total /= len(data_loader.dataset)\n",
    "    return loss_total, acc_total\n",
    "\n",
    "def train_epoch(model, train_loader, val_loader, criterion, optimizer, device):\n",
    "    train_loss, train_acc = run_epoch(model, train_loader, criterion, optimizer, device, train=True)\n",
    "    val_loss, val_acc = run_epoch(model, val_loader, criterion, optimizer, device, train=False)\n",
    "    return train_loss, train_acc, val_loss, val_acc\n",
    "\n",
    "# Entrenar un modelo\n",
    "def train(model, train_data, val_data, epochs=100, batch_size=256, lr=0.001, device='cpu', folder='models', early_stopping=5, verbose=False):\n",
    "    # Definimos el optimizador\n",
    "    optimizer = torch.optim.Adam(model.parameters(), lr=lr)\n",
    "    # Definimos la función de costo\n",
    "    criterion = torch.nn.CrossEntropyLoss()\n",
    "    # Enviamos el modelo al dispositivo\n",
    "    model.to(device)\n",
    "    # Definimos los dataloaders\n",
    "    train_loader = torch.utils.data.DataLoader(train_data, batch_size=batch_size, shuffle=True)\n",
    "    val_loader = torch.utils.data.DataLoader(val_data, batch_size=batch_size, shuffle=False)\n",
    "    # Definimos las listas para guardar los resultados\n",
    "    train_losses = []\n",
    "    train_accuracies = []\n",
    "    val_losses = []\n",
    "    val_accuracies = []\n",
    "    # Early stopping\n",
    "    epochs_without_improvement = 0\n",
    "    # Entrenamos\n",
    "    for epoch in range(epochs):\n",
    "        # Entrenamos un epoch\n",
    "        train_loss, train_acc, val_loss, val_acc = train_epoch(model, train_loader, val_loader, criterion, optimizer, device)\n",
    "        # Guardamos los resultados\n",
    "        train_losses.append(train_loss)\n",
    "        train_accuracies.append(train_acc)\n",
    "        val_losses.append(val_loss)\n",
    "        val_accuracies.append(val_acc)\n",
    "        # Si mejora el resultado, guardamos el modelo\n",
    "        best_val_loss = np.min(val_losses)\n",
    "        if val_loss > best_val_loss:\n",
    "            torch.save(model.state_dict(), f\"{folder}/model.pth\")\n",
    "            epochs_without_improvement = 0\n",
    "        else:\n",
    "            epochs_without_improvement += 1\n",
    "        # Si no mejora el resultado durante 5 epochs, detenemos el entrenamiento\n",
    "        if epochs_without_improvement >= early_stopping:\n",
    "            print(f\"Training stopped at epoch {epoch+1}\")\n",
    "            break\n",
    "        # Imprimimos los resultados\n",
    "        if verbose:\n",
    "            print(f\"Epoch {epoch+1}/{epochs}:\")\n",
    "            print(f\"Train loss: {train_loss:.4f} - Train acc: {train_acc:.4f}\")\n",
    "            print(f\"Val loss: {val_loss:.4f} - Val acc: {val_acc:.4f}\")\n",
    "    return train_losses, train_accuracies, val_losses, val_accuracies"
   ]
  },
  {
   "cell_type": "code",
   "execution_count": 12,
   "metadata": {},
   "outputs": [],
   "source": [
    "# Entrenamos el modelo\n",
    "train_losses, train_accuracies, val_losses, val_accuracies = train(model, train_data, val_data, epochs=1, batch_size=256, lr=0.001, device='cuda')"
   ]
  },
  {
   "cell_type": "code",
   "execution_count": 41,
   "metadata": {},
   "outputs": [],
   "source": [
    "def cromosome_to_model(cromosome, in_channels, size, classes):\n",
    "    model = ConvNet(in_channels, cromosome, size=size, classes=classes)\n",
    "    return model\n",
    "\n",
    "def mutate_cromosome(cromosome, depths, filters, kernel_sizes):\n",
    "    if np.random.rand() < 0.5: # Mutación de profundidad\n",
    "        current_depth = cromosome[0]\n",
    "        new_depth = np.random.choice(depths)\n",
    "        for i in range(abs(new_depth - current_depth)):\n",
    "            if new_depth > current_depth:\n",
    "                cromosome += [np.random.choice(filters), np.random.choice(kernel_sizes)]\n",
    "            else:\n",
    "                cromosome = cromosome[:-2]\n",
    "        cromosome[0] = new_depth\n",
    "    else: # Mutación de un filtro o kernel size (impar: filtro, par: kernel size)\n",
    "        pos = np.random.randint(1, len(cromosome))\n",
    "        cromosome[pos] = np.random.choice(filters) if pos % 2 == 1 else np.random.choice(kernel_sizes)\n",
    "    return cromosome\n",
    "\n",
    "def sequential_crossover(cromosome1, cromosome2):\n",
    "    pos = np.random.randint(1, len(cromosome1))\n",
    "    pos = pos if pos % 2 == 1 else pos -1\n",
    "    cromosome1[pos:], cromosome2[pos:] = cromosome2[pos:], cromosome1[pos:]\n",
    "    cromosome1[0], cromosome2[0] = len(cromosome1[1:])//2, len(cromosome2[1:])//2\n",
    "    return cromosome1, cromosome2\n",
    "\n",
    "def binary_crossover(cromosome1, cromosome2):\n",
    "    # Lista binaria de len(cromosome)-1\n",
    "    binary_list = [np.random.randint(0, 2) for _ in range(min(len(cromosome1[1:]),len(cromosome2[1:])))] \n",
    "    # Realizamos el crossover\n",
    "    for i in range(0,len(binary_list)):\n",
    "        if binary_list[i] == 1:\n",
    "            cromosome1[i+1], cromosome2[i+1] = cromosome2[i+1], cromosome1[i+1]\n",
    "    return cromosome1, cromosome2\n",
    "\n",
    "def wheel_selection(population, fitness, prob):\n",
    "    parent1 = population[np.random.choice(len(population), p=fitness)]\n",
    "    parent2 = population[np.random.choice(len(population), p=fitness)]\n",
    "    if prob < np.random.rand(): # Crossover secuencial\n",
    "        return sequential_crossover(parent1, parent2)\n",
    "    else: # Crossover binario\n",
    "        return binary_crossover(parent1, parent2)\n",
    "\n",
    "def evaluate_total_cromosome(cromosome, train_data, val_data, in_channels, size, classes, epochs=100, batch_size=256, lr=0.001, device='cpu', folder='models', early_stopping=5):\n",
    "    # Creamos el modelo\n",
    "    model = cromosome_to_model(cromosome, in_channels, size, classes)\n",
    "    # Entrenamos el modelo\n",
    "    train_losses, train_accuracies, val_losses, val_accuracies = train(model, train_data, val_data, epochs=epochs, batch_size=batch_size, lr=lr, device=device, folder=folder, early_stopping=early_stopping)\n",
    "    return train_losses, train_accuracies, val_losses, val_accuracies, model\n",
    "\n",
    "def evaluate_cromosome(cromosome, train_data, val_data, in_channels, size, classes, epochs=100, batch_size=256, lr=0.001, device='cpu', folder='models', early_stopping=5):\n",
    "    _, _, _, val_accuracies, model = evaluate_total_cromosome(cromosome, train_data, val_data, in_channels, size, classes, epochs=epochs, batch_size=batch_size, lr=lr, device=device, folder=folder, early_stopping=early_stopping)\n",
    "    return max(val_accuracies), model\n",
    "\n",
    "def generate_population(depths, filters, kernel_sizes, population_size):\n",
    "    population = []\n",
    "    for i in range(population_size):\n",
    "        depth = np.random.choice(depths)\n",
    "        filters = np.random.choice(filters, size=depth)\n",
    "        kernel_sizes = np.random.choice(kernel_sizes, size=depth)\n",
    "        cromosome = [depth]\n",
    "        for f, k in zip(filters, kernel_sizes): cromosome += [f, k]\n",
    "        population.append(cromosome)\n",
    "    return population\n",
    "\n",
    "def prune_population(next_population, elite, population_size, params):\n",
    "    [depths, filters, kernel_sizes] = params     \n",
    "    if len(next_population) < population_size: # Si faltan cromosomas\n",
    "        next_population += generate_population(depths, filters, kernel_sizes, population_size-len(next_population))\n",
    "    elif len(next_population) > population_size: # Si sobran cromosomas se limita a population_size\n",
    "        indexes = np.random.choice(len(next_population), size=population_size, replace=False)\n",
    "        next_population = [next_population[idx] for idx in indexes]\n",
    "    if elite not in next_population: # Si no está el mejor cromosoma, lo agregamos al azar\n",
    "        next_population[np.random.randint(0, len(next_population))] = elite\n",
    "    return next_population\n",
    "\n",
    "def genetic_algorithm(train_data, val_data, in_channels, size, classes, epochs=1, early_stopping = 5, batch_size=256, lr=0.001, device='cpu', folder='models',\n",
    "                       population_size=10, generations=10, depths=[1, 2, 3, 4, 5], filters=[16, 32, 64, 128, 256], kernel_sizes=[3, 5], final_epochs=15, final_early_stopping = 15, seed=42, verbose=False):\n",
    "    # Medir tiempo de ejecución\n",
    "    start_time = time.time()\n",
    "    \n",
    "    # Utils para entrenar el modelo y crearlo\n",
    "    conv_arguments = [train_data, val_data, in_channels, size, classes, epochs, batch_size, lr, device, folder, early_stopping]\n",
    "    conv_params = [depths, filters, kernel_sizes]\n",
    "    generations_list = []\n",
    "    val_accuracy_list = []\n",
    "    population = generate_population(depths, filters, kernel_sizes, population_size)\n",
    "    for generation in range(generations): # Entrenamos la población\n",
    "        generations_list.append(population)\n",
    "        cross_prob = generation/generations\n",
    "        mutation_prob = 1 - cross_prob\n",
    "        print(f\"Generation {generation+1}/{generations}:\", population)\n",
    "        val_accuracy = []\n",
    "        for idx, cromosome in enumerate(population): # Evaluamos cada cromosoma\n",
    "            max_accuracy, _ = evaluate_cromosome(cromosome, *conv_arguments)\n",
    "            val_accuracy += [max_accuracy]\n",
    "            if verbose: print(f\"Validation Accuracy - Cromosome {idx+1}: {val_accuracy[-1]}\")\n",
    "        val_accuracy_list.append(val_accuracy)\n",
    "        if generation < generations//2: # Fitness al comienzo\n",
    "            fitness = np.array(val_accuracy)/sum(val_accuracy)\n",
    "        else: # Ranking + Fitness al final\n",
    "            ranking = np.argsort(val_accuracy)+1\n",
    "            fitness = (len(ranking)+1-ranking)/sum(len(ranking)+1-ranking)\n",
    "\n",
    "        elite = population[np.argmax(val_accuracy)]\n",
    "        children = []\n",
    "        next_population = []\n",
    "        \n",
    "        for cromosome in population:\n",
    "            if np.random.rand() <= cross_prob: # Cross-over\n",
    "                if verbose: print(\"Wheel selection...\")\n",
    "                child1, child2 = wheel_selection(population, fitness, generation/generations)\n",
    "                children.append(child1)\n",
    "                children.append(child2)\n",
    "\n",
    "            if generation < generations/2: # Mutación\n",
    "                if np.random.rand() < mutation_prob:\n",
    "                    if verbose: print(f\"Mutation Cromosome {population.index(cromosome)+1}...\", cromosome, \"-> \", end=\"\")\n",
    "                    cromosome = mutate_cromosome(cromosome, depths, filters, kernel_sizes)\n",
    "                    print(cromosome)\n",
    "                    children.append(cromosome)\n",
    "            else: # Crecimiento: supervivientes + elitismo + hijos\n",
    "                next_population.append(elite)\n",
    "                next_population += children\n",
    "                if verbose: print(\"Adding survivors...\", sep=\"\")\n",
    "                survivors = []\n",
    "                cumulated_fitness = 0\n",
    "                copy_population = population.copy()\n",
    "                copy_fitness = fitness.copy()\n",
    "                assert len(copy_population) == len(copy_fitness)\n",
    "                while cumulated_fitness < 0.5 and len(copy_population) > 0 and len(copy_fitness) > 0:\n",
    "                    # Elegimos mejor fitness hasta completar 0.5 de la población\n",
    "                    best_current_idx = np.argsort(copy_fitness)[::-1][0]\n",
    "                    survivor = copy_population[best_current_idx]\n",
    "                    survivors.append(survivor)\n",
    "                    cumulated_fitness += copy_fitness[best_current_idx]\n",
    "                    # Lo eliminamos de la lista de candidatos\n",
    "                    del copy_population[best_current_idx]\n",
    "                    np.delete(copy_fitness, best_current_idx)\n",
    "                print(survivors)\n",
    "                    \n",
    "                next_population += survivors\n",
    "                for i in range(len(next_population)): # Aplicamos mutación a la nueva población\n",
    "                    if np.random.rand() < mutation_prob:\n",
    "                        if verbose: print(f\"Mutation Next Population Cromosome {i+1}...\", next_population[i], \"-> \", end=\"\")\n",
    "                        next_population[i] = mutate_cromosome(next_population[i], depths, filters, kernel_sizes)\n",
    "                        print(next_population[i])\n",
    "                        \n",
    "        # Podamos la población + elitismo\n",
    "        next_population = prune_population(next_population, elite, population_size, conv_params)\n",
    "                \n",
    "        # Actualizamos la población\n",
    "        population = next_population\n",
    "    \n",
    "    # Evaluamos la última generación\n",
    "    if verbose: print(\"Last Generation - Final Evaluation with\", final_epochs, \"epochs\")\n",
    "    conv_arguments[5] = final_epochs\n",
    "    conv_arguments[10] = final_early_stopping\n",
    "    val_accuracy = []\n",
    "    # Borrar duplicados\n",
    "    if verbose: print(\"Removing duplicates...\")\n",
    "    population = list(set(tuple(cromosome) for cromosome in population))\n",
    "    population = [list(cromosome) for cromosome in population]\n",
    "    models = []\n",
    "    for idx, cromosome in enumerate(population):\n",
    "        max_accuracy, model = evaluate_cromosome(cromosome, *conv_arguments)\n",
    "        models.append(model)\n",
    "        val_accuracy += [max_accuracy]\n",
    "        print(f\"Validation Accuracy - Cromosome {idx+1}/{len(population)}: {val_accuracy[-1]}\")\n",
    "    # Seleccionamos el mejor cromosoma\n",
    "    best_cromosome = population[np.argmax(val_accuracy)]\n",
    "    # Guardar tiempo\n",
    "    end_time = time.time()\n",
    "    \n",
    "    # Guardamos todos los parámetros que pueden ser relevantes del modelo\n",
    "    model_params = {\n",
    "        'in_channels': in_channels,\n",
    "        'size': size,\n",
    "        'classes': classes,\n",
    "        'epochs': epochs,\n",
    "        'batch_size': batch_size,\n",
    "        'lr': lr,\n",
    "        'device': device,\n",
    "        'folder': folder,\n",
    "        'population_size': population_size,\n",
    "        'generations': generations,\n",
    "        'depths': depths,\n",
    "        'filters': filters,\n",
    "        'kernel_sizes': kernel_sizes,\n",
    "        'final_epochs': final_epochs,\n",
    "        'time': end_time-start_time,\n",
    "        'best_cromosome': best_cromosome,\n",
    "        'generations_list': generations_list,\n",
    "        'val_accuracy_list': val_accuracy_list\n",
    "    }\n",
    "    # Guardamos el modelo\n",
    "    torch.save(models[np.argmax(val_accuracy)], f\"{folder}/model_{seed}.pt\")\n",
    "    # Guardamos los parámetros con numpy\n",
    "    np.save(f\"{folder}/model_params_{seed}.npy\", model_params)\n",
    "    # Print tiempo de ejecución para esa semilla\n",
    "    print(f\"Execution time: {end_time-start_time} seconds for {seed} experiment\")\n",
    "    return model_params, models[np.argmax(val_accuracy)]"
   ]
  },
  {
   "cell_type": "code",
   "execution_count": 49,
   "metadata": {},
   "outputs": [],
   "source": [
    "train_data, val_data, test_data = get_data_MNIST()"
   ]
  },
  {
   "cell_type": "code",
   "execution_count": 53,
   "metadata": {},
   "outputs": [
    {
     "name": "stdout",
     "output_type": "stream",
     "text": [
      "Training 'mnist' model 1/10...\n",
      "Generation 1/12: [[2, 128, 3, 64, 3], [2, 128, 3, 64, 3], [2, 64, 3, 64, 3], [2, 64, 3, 64, 3], [2, 64, 3, 64, 3], [2, 64, 3, 64, 3], [3, 64, 3, 64, 3, 64, 3], [2, 64, 3, 64, 3], [2, 64, 3, 64, 3], [3, 64, 3, 64, 3, 64, 3]]\n"
     ]
    },
    {
     "ename": "KeyboardInterrupt",
     "evalue": "",
     "output_type": "error",
     "traceback": [
      "\u001b[1;31m---------------------------------------------------------------------------\u001b[0m",
      "\u001b[1;31mKeyboardInterrupt\u001b[0m                         Traceback (most recent call last)",
      "Cell \u001b[1;32mIn[53], line 6\u001b[0m\n\u001b[0;32m      4\u001b[0m \u001b[39mfor\u001b[39;00m i \u001b[39min\u001b[39;00m \u001b[39mrange\u001b[39m(\u001b[39m10\u001b[39m):\n\u001b[0;32m      5\u001b[0m     \u001b[39mprint\u001b[39m(\u001b[39mf\u001b[39m\u001b[39m\"\u001b[39m\u001b[39mTraining \u001b[39m\u001b[39m'\u001b[39m\u001b[39mmnist\u001b[39m\u001b[39m'\u001b[39m\u001b[39m model \u001b[39m\u001b[39m{\u001b[39;00mi\u001b[39m+\u001b[39m\u001b[39m1\u001b[39m\u001b[39m}\u001b[39;00m\u001b[39m/10...\u001b[39m\u001b[39m\"\u001b[39m)\n\u001b[1;32m----> 6\u001b[0m     params_mnist[i], models_mnist[i] \u001b[39m=\u001b[39m genetic_algorithm(train_data,\n\u001b[0;32m      7\u001b[0m                                         val_data,\n\u001b[0;32m      8\u001b[0m                                         in_channels \u001b[39m=\u001b[39;49m \u001b[39m1\u001b[39;49m,\n\u001b[0;32m      9\u001b[0m                                         size \u001b[39m=\u001b[39;49m \u001b[39m28\u001b[39;49m,\n\u001b[0;32m     10\u001b[0m                                         classes \u001b[39m=\u001b[39;49m \u001b[39m10\u001b[39;49m,\n\u001b[0;32m     11\u001b[0m                                         epochs \u001b[39m=\u001b[39;49m \u001b[39m15\u001b[39;49m,\n\u001b[0;32m     12\u001b[0m                                         batch_size \u001b[39m=\u001b[39;49m \u001b[39m20\u001b[39;49m,\n\u001b[0;32m     13\u001b[0m                                         lr\u001b[39m=\u001b[39;49m\u001b[39m0.001\u001b[39;49m,\n\u001b[0;32m     14\u001b[0m                                         device\u001b[39m=\u001b[39;49m\u001b[39m'\u001b[39;49m\u001b[39mcuda\u001b[39;49m\u001b[39m'\u001b[39;49m,\n\u001b[0;32m     15\u001b[0m                                         folder\u001b[39m=\u001b[39;49m\u001b[39m'\u001b[39;49m\u001b[39mmodels/mnist\u001b[39;49m\u001b[39m'\u001b[39;49m,\n\u001b[0;32m     16\u001b[0m                                         population_size\u001b[39m=\u001b[39;49m\u001b[39m10\u001b[39;49m,\n\u001b[0;32m     17\u001b[0m                                         generations\u001b[39m=\u001b[39;49m\u001b[39m12\u001b[39;49m,\n\u001b[0;32m     18\u001b[0m                                         depths\u001b[39m=\u001b[39;49m[\u001b[39m2\u001b[39;49m, \u001b[39m3\u001b[39;49m],\n\u001b[0;32m     19\u001b[0m                                         filters\u001b[39m=\u001b[39;49m[\u001b[39m4\u001b[39;49m, \u001b[39m8\u001b[39;49m, \u001b[39m16\u001b[39;49m, \u001b[39m32\u001b[39;49m, \u001b[39m64\u001b[39;49m, \u001b[39m128\u001b[39;49m],\n\u001b[0;32m     20\u001b[0m                                         kernel_sizes\u001b[39m=\u001b[39;49m[\u001b[39m3\u001b[39;49m],\n\u001b[0;32m     21\u001b[0m                                         final_epochs\u001b[39m=\u001b[39;49m\u001b[39m100\u001b[39;49m,\n\u001b[0;32m     22\u001b[0m                                         final_early_stopping\u001b[39m=\u001b[39;49m\u001b[39m10\u001b[39;49m,\n\u001b[0;32m     23\u001b[0m                                         seed \u001b[39m=\u001b[39;49m i)\n",
      "Cell \u001b[1;32mIn[41], line 95\u001b[0m, in \u001b[0;36mgenetic_algorithm\u001b[1;34m(train_data, val_data, in_channels, size, classes, epochs, early_stopping, batch_size, lr, device, folder, population_size, generations, depths, filters, kernel_sizes, final_epochs, final_early_stopping, seed, verbose)\u001b[0m\n\u001b[0;32m     93\u001b[0m val_accuracy \u001b[39m=\u001b[39m []\n\u001b[0;32m     94\u001b[0m \u001b[39mfor\u001b[39;00m idx, cromosome \u001b[39min\u001b[39;00m \u001b[39menumerate\u001b[39m(population): \u001b[39m# Evaluamos cada cromosoma\u001b[39;00m\n\u001b[1;32m---> 95\u001b[0m     max_accuracy, _ \u001b[39m=\u001b[39m evaluate_cromosome(cromosome, \u001b[39m*\u001b[39;49mconv_arguments)\n\u001b[0;32m     96\u001b[0m     val_accuracy \u001b[39m+\u001b[39m\u001b[39m=\u001b[39m [max_accuracy]\n\u001b[0;32m     97\u001b[0m     \u001b[39mif\u001b[39;00m verbose: \u001b[39mprint\u001b[39m(\u001b[39mf\u001b[39m\u001b[39m\"\u001b[39m\u001b[39mValidation Accuracy - Cromosome \u001b[39m\u001b[39m{\u001b[39;00midx\u001b[39m+\u001b[39m\u001b[39m1\u001b[39m\u001b[39m}\u001b[39;00m\u001b[39m: \u001b[39m\u001b[39m{\u001b[39;00mval_accuracy[\u001b[39m-\u001b[39m\u001b[39m1\u001b[39m]\u001b[39m}\u001b[39;00m\u001b[39m\"\u001b[39m)\n",
      "Cell \u001b[1;32mIn[41], line 52\u001b[0m, in \u001b[0;36mevaluate_cromosome\u001b[1;34m(cromosome, train_data, val_data, in_channels, size, classes, epochs, batch_size, lr, device, folder, early_stopping)\u001b[0m\n\u001b[0;32m     51\u001b[0m \u001b[39mdef\u001b[39;00m \u001b[39mevaluate_cromosome\u001b[39m(cromosome, train_data, val_data, in_channels, size, classes, epochs\u001b[39m=\u001b[39m\u001b[39m100\u001b[39m, batch_size\u001b[39m=\u001b[39m\u001b[39m256\u001b[39m, lr\u001b[39m=\u001b[39m\u001b[39m0.001\u001b[39m, device\u001b[39m=\u001b[39m\u001b[39m'\u001b[39m\u001b[39mcpu\u001b[39m\u001b[39m'\u001b[39m, folder\u001b[39m=\u001b[39m\u001b[39m'\u001b[39m\u001b[39mmodels\u001b[39m\u001b[39m'\u001b[39m, early_stopping\u001b[39m=\u001b[39m\u001b[39m5\u001b[39m):\n\u001b[1;32m---> 52\u001b[0m     _, _, _, val_accuracies, model \u001b[39m=\u001b[39m evaluate_total_cromosome(cromosome, train_data, val_data, in_channels, size, classes, epochs\u001b[39m=\u001b[39;49mepochs, batch_size\u001b[39m=\u001b[39;49mbatch_size, lr\u001b[39m=\u001b[39;49mlr, device\u001b[39m=\u001b[39;49mdevice, folder\u001b[39m=\u001b[39;49mfolder, early_stopping\u001b[39m=\u001b[39;49mearly_stopping)\n\u001b[0;32m     53\u001b[0m     \u001b[39mreturn\u001b[39;00m \u001b[39mmax\u001b[39m(val_accuracies), model\n",
      "Cell \u001b[1;32mIn[41], line 48\u001b[0m, in \u001b[0;36mevaluate_total_cromosome\u001b[1;34m(cromosome, train_data, val_data, in_channels, size, classes, epochs, batch_size, lr, device, folder, early_stopping)\u001b[0m\n\u001b[0;32m     46\u001b[0m model \u001b[39m=\u001b[39m cromosome_to_model(cromosome, in_channels, size, classes)\n\u001b[0;32m     47\u001b[0m \u001b[39m# Entrenamos el modelo\u001b[39;00m\n\u001b[1;32m---> 48\u001b[0m train_losses, train_accuracies, val_losses, val_accuracies \u001b[39m=\u001b[39m train(model, train_data, val_data, epochs\u001b[39m=\u001b[39;49mepochs, batch_size\u001b[39m=\u001b[39;49mbatch_size, lr\u001b[39m=\u001b[39;49mlr, device\u001b[39m=\u001b[39;49mdevice, folder\u001b[39m=\u001b[39;49mfolder, early_stopping\u001b[39m=\u001b[39;49mearly_stopping)\n\u001b[0;32m     49\u001b[0m \u001b[39mreturn\u001b[39;00m train_losses, train_accuracies, val_losses, val_accuracies, model\n",
      "Cell \u001b[1;32mIn[40], line 56\u001b[0m, in \u001b[0;36mtrain\u001b[1;34m(model, train_data, val_data, epochs, batch_size, lr, device, folder, early_stopping, verbose)\u001b[0m\n\u001b[0;32m     53\u001b[0m \u001b[39m# Entrenamos\u001b[39;00m\n\u001b[0;32m     54\u001b[0m \u001b[39mfor\u001b[39;00m epoch \u001b[39min\u001b[39;00m \u001b[39mrange\u001b[39m(epochs):\n\u001b[0;32m     55\u001b[0m     \u001b[39m# Entrenamos un epoch\u001b[39;00m\n\u001b[1;32m---> 56\u001b[0m     train_loss, train_acc, val_loss, val_acc \u001b[39m=\u001b[39m train_epoch(model, train_loader, val_loader, criterion, optimizer, device)\n\u001b[0;32m     57\u001b[0m     \u001b[39m# Guardamos los resultados\u001b[39;00m\n\u001b[0;32m     58\u001b[0m     train_losses\u001b[39m.\u001b[39mappend(train_loss)\n",
      "Cell \u001b[1;32mIn[40], line 31\u001b[0m, in \u001b[0;36mtrain_epoch\u001b[1;34m(model, train_loader, val_loader, criterion, optimizer, device)\u001b[0m\n\u001b[0;32m     30\u001b[0m \u001b[39mdef\u001b[39;00m \u001b[39mtrain_epoch\u001b[39m(model, train_loader, val_loader, criterion, optimizer, device):\n\u001b[1;32m---> 31\u001b[0m     train_loss, train_acc \u001b[39m=\u001b[39m run_epoch(model, train_loader, criterion, optimizer, device, train\u001b[39m=\u001b[39;49m\u001b[39mTrue\u001b[39;49;00m)\n\u001b[0;32m     32\u001b[0m     val_loss, val_acc \u001b[39m=\u001b[39m run_epoch(model, val_loader, criterion, optimizer, device, train\u001b[39m=\u001b[39m\u001b[39mFalse\u001b[39;00m)\n\u001b[0;32m     33\u001b[0m     \u001b[39mreturn\u001b[39;00m train_loss, train_acc, val_loss, val_acc\n",
      "Cell \u001b[1;32mIn[40], line 21\u001b[0m, in \u001b[0;36mrun_epoch\u001b[1;34m(model, data_loader, criterion, optimizer, device, train)\u001b[0m\n\u001b[0;32m     19\u001b[0m     optimizer\u001b[39m.\u001b[39mzero_grad()\n\u001b[0;32m     20\u001b[0m     loss\u001b[39m.\u001b[39mbackward()\n\u001b[1;32m---> 21\u001b[0m     optimizer\u001b[39m.\u001b[39;49mstep()\n\u001b[0;32m     22\u001b[0m \u001b[39m# Acumulamos los resultados\u001b[39;00m\n\u001b[0;32m     23\u001b[0m loss_total \u001b[39m+\u001b[39m\u001b[39m=\u001b[39m loss\u001b[39m.\u001b[39mitem() \u001b[39m*\u001b[39m x\u001b[39m.\u001b[39msize(\u001b[39m0\u001b[39m)\n",
      "File \u001b[1;32md:\\Drive-Seba\\UChile\\9no semestre\\Procesamiento de Imagenes\\Genetic-Algorithms\\.env\\lib\\site-packages\\torch\\optim\\optimizer.py:280\u001b[0m, in \u001b[0;36mOptimizer.profile_hook_step.<locals>.wrapper\u001b[1;34m(*args, **kwargs)\u001b[0m\n\u001b[0;32m    276\u001b[0m         \u001b[39melse\u001b[39;00m:\n\u001b[0;32m    277\u001b[0m             \u001b[39mraise\u001b[39;00m \u001b[39mRuntimeError\u001b[39;00m(\u001b[39mf\u001b[39m\u001b[39m\"\u001b[39m\u001b[39m{\u001b[39;00mfunc\u001b[39m}\u001b[39;00m\u001b[39m must return None or a tuple of (new_args, new_kwargs),\u001b[39m\u001b[39m\"\u001b[39m\n\u001b[0;32m    278\u001b[0m                                \u001b[39mf\u001b[39m\u001b[39m\"\u001b[39m\u001b[39mbut got \u001b[39m\u001b[39m{\u001b[39;00mresult\u001b[39m}\u001b[39;00m\u001b[39m.\u001b[39m\u001b[39m\"\u001b[39m)\n\u001b[1;32m--> 280\u001b[0m out \u001b[39m=\u001b[39m func(\u001b[39m*\u001b[39margs, \u001b[39m*\u001b[39m\u001b[39m*\u001b[39mkwargs)\n\u001b[0;32m    281\u001b[0m \u001b[39mself\u001b[39m\u001b[39m.\u001b[39m_optimizer_step_code()\n\u001b[0;32m    283\u001b[0m \u001b[39m# call optimizer step post hooks\u001b[39;00m\n",
      "File \u001b[1;32md:\\Drive-Seba\\UChile\\9no semestre\\Procesamiento de Imagenes\\Genetic-Algorithms\\.env\\lib\\site-packages\\torch\\optim\\optimizer.py:33\u001b[0m, in \u001b[0;36m_use_grad_for_differentiable.<locals>._use_grad\u001b[1;34m(self, *args, **kwargs)\u001b[0m\n\u001b[0;32m     31\u001b[0m \u001b[39mtry\u001b[39;00m:\n\u001b[0;32m     32\u001b[0m     torch\u001b[39m.\u001b[39mset_grad_enabled(\u001b[39mself\u001b[39m\u001b[39m.\u001b[39mdefaults[\u001b[39m'\u001b[39m\u001b[39mdifferentiable\u001b[39m\u001b[39m'\u001b[39m])\n\u001b[1;32m---> 33\u001b[0m     ret \u001b[39m=\u001b[39m func(\u001b[39mself\u001b[39m, \u001b[39m*\u001b[39margs, \u001b[39m*\u001b[39m\u001b[39m*\u001b[39mkwargs)\n\u001b[0;32m     34\u001b[0m \u001b[39mfinally\u001b[39;00m:\n\u001b[0;32m     35\u001b[0m     torch\u001b[39m.\u001b[39mset_grad_enabled(prev_grad)\n",
      "File \u001b[1;32md:\\Drive-Seba\\UChile\\9no semestre\\Procesamiento de Imagenes\\Genetic-Algorithms\\.env\\lib\\site-packages\\torch\\optim\\adam.py:141\u001b[0m, in \u001b[0;36mAdam.step\u001b[1;34m(self, closure)\u001b[0m\n\u001b[0;32m    130\u001b[0m     beta1, beta2 \u001b[39m=\u001b[39m group[\u001b[39m'\u001b[39m\u001b[39mbetas\u001b[39m\u001b[39m'\u001b[39m]\n\u001b[0;32m    132\u001b[0m     \u001b[39mself\u001b[39m\u001b[39m.\u001b[39m_init_group(\n\u001b[0;32m    133\u001b[0m         group,\n\u001b[0;32m    134\u001b[0m         params_with_grad,\n\u001b[1;32m   (...)\u001b[0m\n\u001b[0;32m    138\u001b[0m         max_exp_avg_sqs,\n\u001b[0;32m    139\u001b[0m         state_steps)\n\u001b[1;32m--> 141\u001b[0m     adam(\n\u001b[0;32m    142\u001b[0m         params_with_grad,\n\u001b[0;32m    143\u001b[0m         grads,\n\u001b[0;32m    144\u001b[0m         exp_avgs,\n\u001b[0;32m    145\u001b[0m         exp_avg_sqs,\n\u001b[0;32m    146\u001b[0m         max_exp_avg_sqs,\n\u001b[0;32m    147\u001b[0m         state_steps,\n\u001b[0;32m    148\u001b[0m         amsgrad\u001b[39m=\u001b[39;49mgroup[\u001b[39m'\u001b[39;49m\u001b[39mamsgrad\u001b[39;49m\u001b[39m'\u001b[39;49m],\n\u001b[0;32m    149\u001b[0m         beta1\u001b[39m=\u001b[39;49mbeta1,\n\u001b[0;32m    150\u001b[0m         beta2\u001b[39m=\u001b[39;49mbeta2,\n\u001b[0;32m    151\u001b[0m         lr\u001b[39m=\u001b[39;49mgroup[\u001b[39m'\u001b[39;49m\u001b[39mlr\u001b[39;49m\u001b[39m'\u001b[39;49m],\n\u001b[0;32m    152\u001b[0m         weight_decay\u001b[39m=\u001b[39;49mgroup[\u001b[39m'\u001b[39;49m\u001b[39mweight_decay\u001b[39;49m\u001b[39m'\u001b[39;49m],\n\u001b[0;32m    153\u001b[0m         eps\u001b[39m=\u001b[39;49mgroup[\u001b[39m'\u001b[39;49m\u001b[39meps\u001b[39;49m\u001b[39m'\u001b[39;49m],\n\u001b[0;32m    154\u001b[0m         maximize\u001b[39m=\u001b[39;49mgroup[\u001b[39m'\u001b[39;49m\u001b[39mmaximize\u001b[39;49m\u001b[39m'\u001b[39;49m],\n\u001b[0;32m    155\u001b[0m         foreach\u001b[39m=\u001b[39;49mgroup[\u001b[39m'\u001b[39;49m\u001b[39mforeach\u001b[39;49m\u001b[39m'\u001b[39;49m],\n\u001b[0;32m    156\u001b[0m         capturable\u001b[39m=\u001b[39;49mgroup[\u001b[39m'\u001b[39;49m\u001b[39mcapturable\u001b[39;49m\u001b[39m'\u001b[39;49m],\n\u001b[0;32m    157\u001b[0m         differentiable\u001b[39m=\u001b[39;49mgroup[\u001b[39m'\u001b[39;49m\u001b[39mdifferentiable\u001b[39;49m\u001b[39m'\u001b[39;49m],\n\u001b[0;32m    158\u001b[0m         fused\u001b[39m=\u001b[39;49mgroup[\u001b[39m'\u001b[39;49m\u001b[39mfused\u001b[39;49m\u001b[39m'\u001b[39;49m],\n\u001b[0;32m    159\u001b[0m         grad_scale\u001b[39m=\u001b[39;49m\u001b[39mgetattr\u001b[39;49m(\u001b[39mself\u001b[39;49m, \u001b[39m\"\u001b[39;49m\u001b[39mgrad_scale\u001b[39;49m\u001b[39m\"\u001b[39;49m, \u001b[39mNone\u001b[39;49;00m),\n\u001b[0;32m    160\u001b[0m         found_inf\u001b[39m=\u001b[39;49m\u001b[39mgetattr\u001b[39;49m(\u001b[39mself\u001b[39;49m, \u001b[39m\"\u001b[39;49m\u001b[39mfound_inf\u001b[39;49m\u001b[39m\"\u001b[39;49m, \u001b[39mNone\u001b[39;49;00m),\n\u001b[0;32m    161\u001b[0m     )\n\u001b[0;32m    163\u001b[0m \u001b[39mreturn\u001b[39;00m loss\n",
      "File \u001b[1;32md:\\Drive-Seba\\UChile\\9no semestre\\Procesamiento de Imagenes\\Genetic-Algorithms\\.env\\lib\\site-packages\\torch\\optim\\adam.py:281\u001b[0m, in \u001b[0;36madam\u001b[1;34m(params, grads, exp_avgs, exp_avg_sqs, max_exp_avg_sqs, state_steps, foreach, capturable, differentiable, fused, grad_scale, found_inf, amsgrad, beta1, beta2, lr, weight_decay, eps, maximize)\u001b[0m\n\u001b[0;32m    278\u001b[0m \u001b[39melse\u001b[39;00m:\n\u001b[0;32m    279\u001b[0m     func \u001b[39m=\u001b[39m _single_tensor_adam\n\u001b[1;32m--> 281\u001b[0m func(params,\n\u001b[0;32m    282\u001b[0m      grads,\n\u001b[0;32m    283\u001b[0m      exp_avgs,\n\u001b[0;32m    284\u001b[0m      exp_avg_sqs,\n\u001b[0;32m    285\u001b[0m      max_exp_avg_sqs,\n\u001b[0;32m    286\u001b[0m      state_steps,\n\u001b[0;32m    287\u001b[0m      amsgrad\u001b[39m=\u001b[39;49mamsgrad,\n\u001b[0;32m    288\u001b[0m      beta1\u001b[39m=\u001b[39;49mbeta1,\n\u001b[0;32m    289\u001b[0m      beta2\u001b[39m=\u001b[39;49mbeta2,\n\u001b[0;32m    290\u001b[0m      lr\u001b[39m=\u001b[39;49mlr,\n\u001b[0;32m    291\u001b[0m      weight_decay\u001b[39m=\u001b[39;49mweight_decay,\n\u001b[0;32m    292\u001b[0m      eps\u001b[39m=\u001b[39;49meps,\n\u001b[0;32m    293\u001b[0m      maximize\u001b[39m=\u001b[39;49mmaximize,\n\u001b[0;32m    294\u001b[0m      capturable\u001b[39m=\u001b[39;49mcapturable,\n\u001b[0;32m    295\u001b[0m      differentiable\u001b[39m=\u001b[39;49mdifferentiable,\n\u001b[0;32m    296\u001b[0m      grad_scale\u001b[39m=\u001b[39;49mgrad_scale,\n\u001b[0;32m    297\u001b[0m      found_inf\u001b[39m=\u001b[39;49mfound_inf)\n",
      "File \u001b[1;32md:\\Drive-Seba\\UChile\\9no semestre\\Procesamiento de Imagenes\\Genetic-Algorithms\\.env\\lib\\site-packages\\torch\\optim\\adam.py:439\u001b[0m, in \u001b[0;36m_multi_tensor_adam\u001b[1;34m(params, grads, exp_avgs, exp_avg_sqs, max_exp_avg_sqs, state_steps, grad_scale, found_inf, amsgrad, beta1, beta2, lr, weight_decay, eps, maximize, capturable, differentiable)\u001b[0m\n\u001b[0;32m    436\u001b[0m params_ \u001b[39m=\u001b[39m [torch\u001b[39m.\u001b[39mview_as_real(x) \u001b[39mif\u001b[39;00m torch\u001b[39m.\u001b[39mis_complex(x) \u001b[39melse\u001b[39;00m x \u001b[39mfor\u001b[39;00m x \u001b[39min\u001b[39;00m device_params]\n\u001b[0;32m    438\u001b[0m \u001b[39m# update steps\u001b[39;00m\n\u001b[1;32m--> 439\u001b[0m torch\u001b[39m.\u001b[39;49m_foreach_add_(device_state_steps, \u001b[39m1\u001b[39;49m)\n\u001b[0;32m    441\u001b[0m \u001b[39mif\u001b[39;00m weight_decay \u001b[39m!=\u001b[39m \u001b[39m0\u001b[39m:\n\u001b[0;32m    442\u001b[0m     device_grads \u001b[39m=\u001b[39m torch\u001b[39m.\u001b[39m_foreach_add(device_grads, device_params, alpha\u001b[39m=\u001b[39mweight_decay)\n",
      "\u001b[1;31mKeyboardInterrupt\u001b[0m: "
     ]
    }
   ],
   "source": [
    "# Entrenar el modelo mnist 10 veces\n",
    "params_mnist = []\n",
    "models_mnist = []\n",
    "for i in range(10):\n",
    "    print(f\"Training 'mnist' model {i+1}/10...\")\n",
    "    params_mnist[i], models_mnist[i] = genetic_algorithm(train_data,\n",
    "                                        val_data,\n",
    "                                        in_channels = 1,\n",
    "                                        size = 28,\n",
    "                                        classes = 10,\n",
    "                                        epochs = 15,\n",
    "                                        batch_size = 20,\n",
    "                                        lr=0.001,\n",
    "                                        device='cuda',\n",
    "                                        folder='models',\n",
    "                                        population_size=10,\n",
    "                                        generations=12,\n",
    "                                        depths=[2, 3],\n",
    "                                        filters=[4, 8, 16, 32, 64, 128],\n",
    "                                        kernel_sizes=[3],\n",
    "                                        final_epochs=100,\n",
    "                                        final_early_stopping=10,\n",
    "                                        final_folder='models/mnist',\n",
    "                                        seed = i)"
   ]
  },
  {
   "cell_type": "code",
   "execution_count": 46,
   "metadata": {},
   "outputs": [],
   "source": [
    "# Data de mnist\n",
    "train_data, val_data, test_data = get_data_CIFAR10()"
   ]
  },
  {
   "cell_type": "code",
   "execution_count": 48,
   "metadata": {},
   "outputs": [
    {
     "name": "stdout",
     "output_type": "stream",
     "text": [
      "Training 'cifar10' model 1/10...\n",
      "Generation 1/12: [[3, 32, 3, 16, 3, 64, 3], [3, 16, 3, 32, 3, 32, 3], [4, 16, 3, 16, 3, 32, 3, 32, 3], [2, 32, 3, 16, 3], [3, 32, 3, 16, 3, 32, 3], [4, 32, 3, 32, 3, 16, 3, 32, 3], [4, 32, 3, 32, 3, 16, 3, 32, 3], [2, 32, 3, 32, 3], [4, 32, 3, 32, 3, 32, 3, 32, 3], [3, 32, 3, 32, 3, 32, 3]]\n"
     ]
    },
    {
     "ename": "RuntimeError",
     "evalue": "mat1 and mat2 shapes cannot be multiplied (20x3136 and 4096x128)",
     "output_type": "error",
     "traceback": [
      "\u001b[1;31m---------------------------------------------------------------------------\u001b[0m",
      "\u001b[1;31mRuntimeError\u001b[0m                              Traceback (most recent call last)",
      "Cell \u001b[1;32mIn[48], line 6\u001b[0m\n\u001b[0;32m      4\u001b[0m \u001b[39mfor\u001b[39;00m i \u001b[39min\u001b[39;00m \u001b[39mrange\u001b[39m(\u001b[39m10\u001b[39m):\n\u001b[0;32m      5\u001b[0m     \u001b[39mprint\u001b[39m(\u001b[39mf\u001b[39m\u001b[39m\"\u001b[39m\u001b[39mTraining \u001b[39m\u001b[39m'\u001b[39m\u001b[39mcifar10\u001b[39m\u001b[39m'\u001b[39m\u001b[39m model \u001b[39m\u001b[39m{\u001b[39;00mi\u001b[39m+\u001b[39m\u001b[39m1\u001b[39m\u001b[39m}\u001b[39;00m\u001b[39m/10...\u001b[39m\u001b[39m\"\u001b[39m)\n\u001b[1;32m----> 6\u001b[0m     params_mnist[i], models_mnist[i] \u001b[39m=\u001b[39m genetic_algorithm(train_data,\n\u001b[0;32m      7\u001b[0m                                         val_data,\n\u001b[0;32m      8\u001b[0m                                         in_channels \u001b[39m=\u001b[39;49m \u001b[39m1\u001b[39;49m,\n\u001b[0;32m      9\u001b[0m                                         size \u001b[39m=\u001b[39;49m \u001b[39m32\u001b[39;49m,\n\u001b[0;32m     10\u001b[0m                                         classes \u001b[39m=\u001b[39;49m \u001b[39m10\u001b[39;49m,\n\u001b[0;32m     11\u001b[0m                                         epochs \u001b[39m=\u001b[39;49m \u001b[39m15\u001b[39;49m,\n\u001b[0;32m     12\u001b[0m                                         batch_size \u001b[39m=\u001b[39;49m \u001b[39m20\u001b[39;49m,\n\u001b[0;32m     13\u001b[0m                                         lr\u001b[39m=\u001b[39;49m\u001b[39m0.001\u001b[39;49m,\n\u001b[0;32m     14\u001b[0m                                         device\u001b[39m=\u001b[39;49m\u001b[39m'\u001b[39;49m\u001b[39mcuda\u001b[39;49m\u001b[39m'\u001b[39;49m,\n\u001b[0;32m     15\u001b[0m                                         folder\u001b[39m=\u001b[39;49m\u001b[39m'\u001b[39;49m\u001b[39mmodels/cifar10\u001b[39;49m\u001b[39m'\u001b[39;49m,\n\u001b[0;32m     16\u001b[0m                                         population_size\u001b[39m=\u001b[39;49m\u001b[39m10\u001b[39;49m,\n\u001b[0;32m     17\u001b[0m                                         generations\u001b[39m=\u001b[39;49m\u001b[39m12\u001b[39;49m,\n\u001b[0;32m     18\u001b[0m                                         depths\u001b[39m=\u001b[39;49m[\u001b[39m2\u001b[39;49m, \u001b[39m3\u001b[39;49m, \u001b[39m4\u001b[39;49m],\n\u001b[0;32m     19\u001b[0m                                         filters\u001b[39m=\u001b[39;49m[\u001b[39m16\u001b[39;49m, \u001b[39m32\u001b[39;49m, \u001b[39m64\u001b[39;49m],\n\u001b[0;32m     20\u001b[0m                                         kernel_sizes\u001b[39m=\u001b[39;49m[\u001b[39m3\u001b[39;49m],\n\u001b[0;32m     21\u001b[0m                                         final_epochs\u001b[39m=\u001b[39;49m\u001b[39m100\u001b[39;49m,\n\u001b[0;32m     22\u001b[0m                                         seed \u001b[39m=\u001b[39;49m i)\n",
      "Cell \u001b[1;32mIn[41], line 95\u001b[0m, in \u001b[0;36mgenetic_algorithm\u001b[1;34m(train_data, val_data, in_channels, size, classes, epochs, early_stopping, batch_size, lr, device, folder, population_size, generations, depths, filters, kernel_sizes, final_epochs, final_early_stopping, seed, verbose)\u001b[0m\n\u001b[0;32m     93\u001b[0m val_accuracy \u001b[39m=\u001b[39m []\n\u001b[0;32m     94\u001b[0m \u001b[39mfor\u001b[39;00m idx, cromosome \u001b[39min\u001b[39;00m \u001b[39menumerate\u001b[39m(population): \u001b[39m# Evaluamos cada cromosoma\u001b[39;00m\n\u001b[1;32m---> 95\u001b[0m     max_accuracy, _ \u001b[39m=\u001b[39m evaluate_cromosome(cromosome, \u001b[39m*\u001b[39;49mconv_arguments)\n\u001b[0;32m     96\u001b[0m     val_accuracy \u001b[39m+\u001b[39m\u001b[39m=\u001b[39m [max_accuracy]\n\u001b[0;32m     97\u001b[0m     \u001b[39mif\u001b[39;00m verbose: \u001b[39mprint\u001b[39m(\u001b[39mf\u001b[39m\u001b[39m\"\u001b[39m\u001b[39mValidation Accuracy - Cromosome \u001b[39m\u001b[39m{\u001b[39;00midx\u001b[39m+\u001b[39m\u001b[39m1\u001b[39m\u001b[39m}\u001b[39;00m\u001b[39m: \u001b[39m\u001b[39m{\u001b[39;00mval_accuracy[\u001b[39m-\u001b[39m\u001b[39m1\u001b[39m]\u001b[39m}\u001b[39;00m\u001b[39m\"\u001b[39m)\n",
      "Cell \u001b[1;32mIn[41], line 52\u001b[0m, in \u001b[0;36mevaluate_cromosome\u001b[1;34m(cromosome, train_data, val_data, in_channels, size, classes, epochs, batch_size, lr, device, folder, early_stopping)\u001b[0m\n\u001b[0;32m     51\u001b[0m \u001b[39mdef\u001b[39;00m \u001b[39mevaluate_cromosome\u001b[39m(cromosome, train_data, val_data, in_channels, size, classes, epochs\u001b[39m=\u001b[39m\u001b[39m100\u001b[39m, batch_size\u001b[39m=\u001b[39m\u001b[39m256\u001b[39m, lr\u001b[39m=\u001b[39m\u001b[39m0.001\u001b[39m, device\u001b[39m=\u001b[39m\u001b[39m'\u001b[39m\u001b[39mcpu\u001b[39m\u001b[39m'\u001b[39m, folder\u001b[39m=\u001b[39m\u001b[39m'\u001b[39m\u001b[39mmodels\u001b[39m\u001b[39m'\u001b[39m, early_stopping\u001b[39m=\u001b[39m\u001b[39m5\u001b[39m):\n\u001b[1;32m---> 52\u001b[0m     _, _, _, val_accuracies, model \u001b[39m=\u001b[39m evaluate_total_cromosome(cromosome, train_data, val_data, in_channels, size, classes, epochs\u001b[39m=\u001b[39;49mepochs, batch_size\u001b[39m=\u001b[39;49mbatch_size, lr\u001b[39m=\u001b[39;49mlr, device\u001b[39m=\u001b[39;49mdevice, folder\u001b[39m=\u001b[39;49mfolder, early_stopping\u001b[39m=\u001b[39;49mearly_stopping)\n\u001b[0;32m     53\u001b[0m     \u001b[39mreturn\u001b[39;00m \u001b[39mmax\u001b[39m(val_accuracies), model\n",
      "Cell \u001b[1;32mIn[41], line 48\u001b[0m, in \u001b[0;36mevaluate_total_cromosome\u001b[1;34m(cromosome, train_data, val_data, in_channels, size, classes, epochs, batch_size, lr, device, folder, early_stopping)\u001b[0m\n\u001b[0;32m     46\u001b[0m model \u001b[39m=\u001b[39m cromosome_to_model(cromosome, in_channels, size, classes)\n\u001b[0;32m     47\u001b[0m \u001b[39m# Entrenamos el modelo\u001b[39;00m\n\u001b[1;32m---> 48\u001b[0m train_losses, train_accuracies, val_losses, val_accuracies \u001b[39m=\u001b[39m train(model, train_data, val_data, epochs\u001b[39m=\u001b[39;49mepochs, batch_size\u001b[39m=\u001b[39;49mbatch_size, lr\u001b[39m=\u001b[39;49mlr, device\u001b[39m=\u001b[39;49mdevice, folder\u001b[39m=\u001b[39;49mfolder, early_stopping\u001b[39m=\u001b[39;49mearly_stopping)\n\u001b[0;32m     49\u001b[0m \u001b[39mreturn\u001b[39;00m train_losses, train_accuracies, val_losses, val_accuracies, model\n",
      "Cell \u001b[1;32mIn[40], line 56\u001b[0m, in \u001b[0;36mtrain\u001b[1;34m(model, train_data, val_data, epochs, batch_size, lr, device, folder, early_stopping, verbose)\u001b[0m\n\u001b[0;32m     53\u001b[0m \u001b[39m# Entrenamos\u001b[39;00m\n\u001b[0;32m     54\u001b[0m \u001b[39mfor\u001b[39;00m epoch \u001b[39min\u001b[39;00m \u001b[39mrange\u001b[39m(epochs):\n\u001b[0;32m     55\u001b[0m     \u001b[39m# Entrenamos un epoch\u001b[39;00m\n\u001b[1;32m---> 56\u001b[0m     train_loss, train_acc, val_loss, val_acc \u001b[39m=\u001b[39m train_epoch(model, train_loader, val_loader, criterion, optimizer, device)\n\u001b[0;32m     57\u001b[0m     \u001b[39m# Guardamos los resultados\u001b[39;00m\n\u001b[0;32m     58\u001b[0m     train_losses\u001b[39m.\u001b[39mappend(train_loss)\n",
      "Cell \u001b[1;32mIn[40], line 31\u001b[0m, in \u001b[0;36mtrain_epoch\u001b[1;34m(model, train_loader, val_loader, criterion, optimizer, device)\u001b[0m\n\u001b[0;32m     30\u001b[0m \u001b[39mdef\u001b[39;00m \u001b[39mtrain_epoch\u001b[39m(model, train_loader, val_loader, criterion, optimizer, device):\n\u001b[1;32m---> 31\u001b[0m     train_loss, train_acc \u001b[39m=\u001b[39m run_epoch(model, train_loader, criterion, optimizer, device, train\u001b[39m=\u001b[39;49m\u001b[39mTrue\u001b[39;49;00m)\n\u001b[0;32m     32\u001b[0m     val_loss, val_acc \u001b[39m=\u001b[39m run_epoch(model, val_loader, criterion, optimizer, device, train\u001b[39m=\u001b[39m\u001b[39mFalse\u001b[39;00m)\n\u001b[0;32m     33\u001b[0m     \u001b[39mreturn\u001b[39;00m train_loss, train_acc, val_loss, val_acc\n",
      "Cell \u001b[1;32mIn[40], line 15\u001b[0m, in \u001b[0;36mrun_epoch\u001b[1;34m(model, data_loader, criterion, optimizer, device, train)\u001b[0m\n\u001b[0;32m     13\u001b[0m \u001b[39m# Forward\u001b[39;00m\n\u001b[0;32m     14\u001b[0m \u001b[39mwith\u001b[39;00m torch\u001b[39m.\u001b[39mset_grad_enabled(train):\n\u001b[1;32m---> 15\u001b[0m     y_pred \u001b[39m=\u001b[39m model(x)\n\u001b[0;32m     16\u001b[0m     loss \u001b[39m=\u001b[39m criterion(y_pred, y)\n\u001b[0;32m     17\u001b[0m \u001b[39m# Backward\u001b[39;00m\n",
      "File \u001b[1;32md:\\Drive-Seba\\UChile\\9no semestre\\Procesamiento de Imagenes\\Genetic-Algorithms\\.env\\lib\\site-packages\\torch\\nn\\modules\\module.py:1501\u001b[0m, in \u001b[0;36mModule._call_impl\u001b[1;34m(self, *args, **kwargs)\u001b[0m\n\u001b[0;32m   1496\u001b[0m \u001b[39m# If we don't have any hooks, we want to skip the rest of the logic in\u001b[39;00m\n\u001b[0;32m   1497\u001b[0m \u001b[39m# this function, and just call forward.\u001b[39;00m\n\u001b[0;32m   1498\u001b[0m \u001b[39mif\u001b[39;00m \u001b[39mnot\u001b[39;00m (\u001b[39mself\u001b[39m\u001b[39m.\u001b[39m_backward_hooks \u001b[39mor\u001b[39;00m \u001b[39mself\u001b[39m\u001b[39m.\u001b[39m_backward_pre_hooks \u001b[39mor\u001b[39;00m \u001b[39mself\u001b[39m\u001b[39m.\u001b[39m_forward_hooks \u001b[39mor\u001b[39;00m \u001b[39mself\u001b[39m\u001b[39m.\u001b[39m_forward_pre_hooks\n\u001b[0;32m   1499\u001b[0m         \u001b[39mor\u001b[39;00m _global_backward_pre_hooks \u001b[39mor\u001b[39;00m _global_backward_hooks\n\u001b[0;32m   1500\u001b[0m         \u001b[39mor\u001b[39;00m _global_forward_hooks \u001b[39mor\u001b[39;00m _global_forward_pre_hooks):\n\u001b[1;32m-> 1501\u001b[0m     \u001b[39mreturn\u001b[39;00m forward_call(\u001b[39m*\u001b[39margs, \u001b[39m*\u001b[39m\u001b[39m*\u001b[39mkwargs)\n\u001b[0;32m   1502\u001b[0m \u001b[39m# Do not call functions when jit is used\u001b[39;00m\n\u001b[0;32m   1503\u001b[0m full_backward_hooks, non_full_backward_hooks \u001b[39m=\u001b[39m [], []\n",
      "Cell \u001b[1;32mIn[26], line 69\u001b[0m, in \u001b[0;36mConvNet.forward\u001b[1;34m(self, x)\u001b[0m\n\u001b[0;32m     67\u001b[0m \u001b[39mdef\u001b[39;00m \u001b[39mforward\u001b[39m(\u001b[39mself\u001b[39m, x):\n\u001b[0;32m     68\u001b[0m     \u001b[39mfor\u001b[39;00m layer \u001b[39min\u001b[39;00m \u001b[39mself\u001b[39m\u001b[39m.\u001b[39mlayers:\n\u001b[1;32m---> 69\u001b[0m         x \u001b[39m=\u001b[39m layer(x)\n\u001b[0;32m     70\u001b[0m     \u001b[39mreturn\u001b[39;00m x\n",
      "File \u001b[1;32md:\\Drive-Seba\\UChile\\9no semestre\\Procesamiento de Imagenes\\Genetic-Algorithms\\.env\\lib\\site-packages\\torch\\nn\\modules\\module.py:1501\u001b[0m, in \u001b[0;36mModule._call_impl\u001b[1;34m(self, *args, **kwargs)\u001b[0m\n\u001b[0;32m   1496\u001b[0m \u001b[39m# If we don't have any hooks, we want to skip the rest of the logic in\u001b[39;00m\n\u001b[0;32m   1497\u001b[0m \u001b[39m# this function, and just call forward.\u001b[39;00m\n\u001b[0;32m   1498\u001b[0m \u001b[39mif\u001b[39;00m \u001b[39mnot\u001b[39;00m (\u001b[39mself\u001b[39m\u001b[39m.\u001b[39m_backward_hooks \u001b[39mor\u001b[39;00m \u001b[39mself\u001b[39m\u001b[39m.\u001b[39m_backward_pre_hooks \u001b[39mor\u001b[39;00m \u001b[39mself\u001b[39m\u001b[39m.\u001b[39m_forward_hooks \u001b[39mor\u001b[39;00m \u001b[39mself\u001b[39m\u001b[39m.\u001b[39m_forward_pre_hooks\n\u001b[0;32m   1499\u001b[0m         \u001b[39mor\u001b[39;00m _global_backward_pre_hooks \u001b[39mor\u001b[39;00m _global_backward_hooks\n\u001b[0;32m   1500\u001b[0m         \u001b[39mor\u001b[39;00m _global_forward_hooks \u001b[39mor\u001b[39;00m _global_forward_pre_hooks):\n\u001b[1;32m-> 1501\u001b[0m     \u001b[39mreturn\u001b[39;00m forward_call(\u001b[39m*\u001b[39margs, \u001b[39m*\u001b[39m\u001b[39m*\u001b[39mkwargs)\n\u001b[0;32m   1502\u001b[0m \u001b[39m# Do not call functions when jit is used\u001b[39;00m\n\u001b[0;32m   1503\u001b[0m full_backward_hooks, non_full_backward_hooks \u001b[39m=\u001b[39m [], []\n",
      "Cell \u001b[1;32mIn[26], line 31\u001b[0m, in \u001b[0;36mDense.forward\u001b[1;34m(self, x)\u001b[0m\n\u001b[0;32m     30\u001b[0m \u001b[39mdef\u001b[39;00m \u001b[39mforward\u001b[39m(\u001b[39mself\u001b[39m, x):\n\u001b[1;32m---> 31\u001b[0m     \u001b[39mreturn\u001b[39;00m \u001b[39mself\u001b[39m\u001b[39m.\u001b[39mdropout(\u001b[39mself\u001b[39;49m\u001b[39m.\u001b[39;49mlinear(x))\n",
      "File \u001b[1;32md:\\Drive-Seba\\UChile\\9no semestre\\Procesamiento de Imagenes\\Genetic-Algorithms\\.env\\lib\\site-packages\\torch\\nn\\modules\\module.py:1501\u001b[0m, in \u001b[0;36mModule._call_impl\u001b[1;34m(self, *args, **kwargs)\u001b[0m\n\u001b[0;32m   1496\u001b[0m \u001b[39m# If we don't have any hooks, we want to skip the rest of the logic in\u001b[39;00m\n\u001b[0;32m   1497\u001b[0m \u001b[39m# this function, and just call forward.\u001b[39;00m\n\u001b[0;32m   1498\u001b[0m \u001b[39mif\u001b[39;00m \u001b[39mnot\u001b[39;00m (\u001b[39mself\u001b[39m\u001b[39m.\u001b[39m_backward_hooks \u001b[39mor\u001b[39;00m \u001b[39mself\u001b[39m\u001b[39m.\u001b[39m_backward_pre_hooks \u001b[39mor\u001b[39;00m \u001b[39mself\u001b[39m\u001b[39m.\u001b[39m_forward_hooks \u001b[39mor\u001b[39;00m \u001b[39mself\u001b[39m\u001b[39m.\u001b[39m_forward_pre_hooks\n\u001b[0;32m   1499\u001b[0m         \u001b[39mor\u001b[39;00m _global_backward_pre_hooks \u001b[39mor\u001b[39;00m _global_backward_hooks\n\u001b[0;32m   1500\u001b[0m         \u001b[39mor\u001b[39;00m _global_forward_hooks \u001b[39mor\u001b[39;00m _global_forward_pre_hooks):\n\u001b[1;32m-> 1501\u001b[0m     \u001b[39mreturn\u001b[39;00m forward_call(\u001b[39m*\u001b[39margs, \u001b[39m*\u001b[39m\u001b[39m*\u001b[39mkwargs)\n\u001b[0;32m   1502\u001b[0m \u001b[39m# Do not call functions when jit is used\u001b[39;00m\n\u001b[0;32m   1503\u001b[0m full_backward_hooks, non_full_backward_hooks \u001b[39m=\u001b[39m [], []\n",
      "File \u001b[1;32md:\\Drive-Seba\\UChile\\9no semestre\\Procesamiento de Imagenes\\Genetic-Algorithms\\.env\\lib\\site-packages\\torch\\nn\\modules\\linear.py:114\u001b[0m, in \u001b[0;36mLinear.forward\u001b[1;34m(self, input)\u001b[0m\n\u001b[0;32m    113\u001b[0m \u001b[39mdef\u001b[39;00m \u001b[39mforward\u001b[39m(\u001b[39mself\u001b[39m, \u001b[39minput\u001b[39m: Tensor) \u001b[39m-\u001b[39m\u001b[39m>\u001b[39m Tensor:\n\u001b[1;32m--> 114\u001b[0m     \u001b[39mreturn\u001b[39;00m F\u001b[39m.\u001b[39;49mlinear(\u001b[39minput\u001b[39;49m, \u001b[39mself\u001b[39;49m\u001b[39m.\u001b[39;49mweight, \u001b[39mself\u001b[39;49m\u001b[39m.\u001b[39;49mbias)\n",
      "\u001b[1;31mRuntimeError\u001b[0m: mat1 and mat2 shapes cannot be multiplied (20x3136 and 4096x128)"
     ]
    }
   ],
   "source": [
    "# Entrenar el modelo cifar 10 veces\n",
    "params_mnist = []\n",
    "models_mnist = []\n",
    "for i in range(10):\n",
    "    print(f\"Training 'cifar10' model {i+1}/10...\")\n",
    "    params_mnist[i], models_mnist[i] = genetic_algorithm(train_data,\n",
    "                                        val_data,\n",
    "                                        in_channels = 3,\n",
    "                                        size = 32,\n",
    "                                        classes = 10,\n",
    "                                        epochs = 15,\n",
    "                                        batch_size = 20,\n",
    "                                        lr=0.001,\n",
    "                                        device='cuda',\n",
    "                                        folder='models',\n",
    "                                        population_size=10,\n",
    "                                        generations=12,\n",
    "                                        depths=[2, 3, 4],\n",
    "                                        filters=[4, 8, 16, 32, 64, 128],\n",
    "                                        kernel_sizes=[3],\n",
    "                                        final_epochs=100,\n",
    "                                        final_folder='models/cifar10',\n",
    "                                        seed = i)"
   ]
  },
  {
   "cell_type": "code",
   "execution_count": null,
   "metadata": {},
   "outputs": [],
   "source": []
  },
  {
   "cell_type": "code",
   "execution_count": 98,
   "metadata": {},
   "outputs": [
    {
     "data": {
      "text/plain": [
       "[4, 64, 3, 64, 3, 64, 3, 32, 3]"
      ]
     },
     "execution_count": 98,
     "metadata": {},
     "output_type": "execute_result"
    }
   ],
   "source": [
    "best_cromosome"
   ]
  },
  {
   "cell_type": "code",
   "execution_count": 99,
   "metadata": {},
   "outputs": [
    {
     "data": {
      "text/plain": [
       "[[[4, 64, 3, 64, 3, 64, 3, 32, 3],\n",
       "  [4, 64, 3, 64, 3, 16, 3, 64, 3],\n",
       "  [3, 16, 3, 64, 3, 64, 3]],\n",
       " [[4, 16, 3, 64, 3, 32, 3, 16, 3],\n",
       "  [4, 64, 3, 64, 3, 64, 3, 32, 3],\n",
       "  [2, 16, 3, 16, 3]],\n",
       " [[4, 64, 3, 64, 3, 64, 3, 32, 3],\n",
       "  [3, 32, 3, 64, 3, 16, 3],\n",
       "  [2, 32, 3, 32, 3]],\n",
       " [[4, 64, 3, 64, 3, 32, 3, 32, 3],\n",
       "  [4, 64, 3, 64, 3, 64, 3, 32, 3],\n",
       "  [3, 64, 3, 16, 3, 16, 3]],\n",
       " [[4, 64, 3, 64, 3, 64, 3, 32, 3],\n",
       "  [4, 64, 3, 64, 3, 64, 3, 32, 3],\n",
       "  [4, 64, 3, 64, 3, 64, 3, 32, 3]]]"
      ]
     },
     "execution_count": 99,
     "metadata": {},
     "output_type": "execute_result"
    }
   ],
   "source": [
    "generations"
   ]
  },
  {
   "cell_type": "code",
   "execution_count": 108,
   "metadata": {},
   "outputs": [
    {
     "data": {
      "image/png": "[encoded data removed]",
      "text/plain": [
       "<Figure size 1000x500 with 1 Axes>"
      ]
     },
     "metadata": {},
     "output_type": "display_data"
    }
   ],
   "source": [
    "accs\n",
    "# Graficar len(generations) boxplots con los valores de accs\n",
    "\n",
    "fig, ax = plt.subplots(figsize=(10, 5))\n",
    "ax.boxplot(accs)\n",
    "ax.set_xticklabels([f\"Generation {i+1}\" for i in range(len(generations))])\n",
    "ax.set_ylabel(\"Validation Accuracy\")\n",
    "ax.set_xlabel(\"Generations\")\n",
    "ax.set_title(\"Validation Accuracy per Generation\")\n",
    "plt.show()"
   ]
  },
  {
   "cell_type": "code",
   "execution_count": 97,
   "metadata": {},
   "outputs": [
    {
     "data": {
      "text/plain": [
       "[4, 64, 3, 64, 3, 64, 3, 32, 3]"
      ]
     },
     "execution_count": 97,
     "metadata": {},
     "output_type": "execute_result"
    }
   ],
   "source": [
    "best_cromosome"
   ]
  },
  {
   "cell_type": "code",
   "execution_count": 104,
   "metadata": {},
   "outputs": [],
   "source": [
    "# Entrenar el modelo del mejor cromosoma\n",
    "train_losses, train_accs, val_losses, val_accs = evaluate_total_cromosome(best_cromosome,\n",
    "                                                train_data,\n",
    "                                                val_data,\n",
    "                                                in_channels = 3,\n",
    "                                                size = 32,\n",
    "                                                classes = 10,\n",
    "                                                epochs = 100,\n",
    "                                                batch_size = 256,\n",
    "                                                lr=0.001,\n",
    "                                                device='cuda',\n",
    "                                                folder='models')"
   ]
  },
  {
   "cell_type": "code",
   "execution_count": 112,
   "metadata": {},
   "outputs": [
    {
     "name": "stdout",
     "output_type": "stream",
     "text": [
      "Best Validation Accuracy: 0.8175\n",
      "Best Train Accuracy: 0.8729\n"
     ]
    },
    {
     "data": {
      "image/png": "[encoded data removed]",
      "text/plain": [
       "<Figure size 1000x500 with 1 Axes>"
      ]
     },
     "metadata": {},
     "output_type": "display_data"
    }
   ],
   "source": [
    "# Curva de entrenamiento y validación (accuracy)\n",
    "# model = torch.load('models/model.pt') # Modelo que se quiere abrir\n",
    "# model.eval()\n",
    "fig, ax = plt.subplots(figsize=(10, 5))\n",
    "ax.plot(train_accs, label=\"Train Accuracy\")\n",
    "ax.plot(val_accs, label=\"Validation Accuracy\")\n",
    "ax.set_xlabel(\"Epochs\") \n",
    "ax.set_ylabel(\"Accuracy\")\n",
    "ax.set_title(\"Accuracy per Epoch\")\n",
    "ax.grid(True, which=\"both\")\n",
    "ax.legend()\n",
    "print(f\"Best Validation Accuracy: {max(val_accs)}\")\n",
    "print(f\"Best Train Accuracy: {max(train_accs)}\")"
   ]
  },
  {
   "cell_type": "code",
   "execution_count": 2,
   "metadata": {},
   "outputs": [
    {
     "name": "stdout",
     "output_type": "stream",
     "text": [
      "2.0.0+cu118\n",
      "11.8\n"
     ]
    }
   ],
   "source": [
    "# Versión torch y cuda\n",
    "import torch\n",
    "print(torch.__version__)\n",
    "print(torch.version.cuda)"
   ]
  },
  {
   "cell_type": "code",
   "execution_count": null,
   "metadata": {},
   "outputs": [],
   "source": [
    "# Cuda version cmd\n",
    "# nvcc --version"
   ]
  }
 ],
 "metadata": {
  "kernelspec": {
   "display_name": ".env",
   "language": "python",
   "name": "python3"
  },
  "language_info": {
   "codemirror_mode": {
    "name": "ipython",
    "version": 3
   },
   "file_extension": ".py",
   "mimetype": "text/x-python",
   "name": "python",
   "nbconvert_exporter": "python",
   "pygments_lexer": "ipython3",
   "version": "3.9.13"
  },
  "orig_nbformat": 4
 },
 "nbformat": 4,
 "nbformat_minor": 2
}
