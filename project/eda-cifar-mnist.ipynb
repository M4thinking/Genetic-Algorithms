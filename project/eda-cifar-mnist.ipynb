{
 "cells": [
  {
   "cell_type": "code",
   "execution_count": 1,
   "metadata": {},
   "outputs": [],
   "source": [
    "import torch\n",
    "import numpy as np\n",
    "import matplotlib.pyplot as plt\n",
    "from torchvision import datasets\n",
    "from torchvision import transforms\n",
    "\n",
    "\n",
    "def get_transforms(std=0.5, mean=0.5):\n",
    "    return transforms.Compose([\n",
    "        transforms.ToTensor(),\n",
    "        transforms.Normalize((mean,), (std,))\n",
    "    ])\n",
    "    \n",
    "def cut_data(data, first_proportion=0.8):\n",
    "    first_size = int(len(data) * first_proportion)\n",
    "    second_size = len(data) - first_size\n",
    "    first_data, second_data = torch.utils.data.random_split(data, [first_size, second_size])\n",
    "    return first_data, second_data\n",
    "\n",
    "def get_data_MNIST(std=0.5, mean=0.5, train_size=0.8):\n",
    "    train_data = datasets.FashionMNIST(root='data', train=True, transform=get_transforms(std, mean), download=True)\n",
    "    test_data = datasets.FashionMNIST(root='data', train=False, transform=get_transforms(std, mean), download=True)\n",
    "    train_data, val_data = cut_data(train_data, train_size)\n",
    "    return train_data, val_data, test_data\n",
    "\n",
    "def get_data_CIFAR10(std=0.5, mean=0.5, train_size=0.8):\n",
    "    train_data = datasets.CIFAR10(root='data', train=True, transform=get_transforms(std, mean), download=True)\n",
    "    test_data = datasets.CIFAR10(root='data', train=False, transform=get_transforms(std, mean), download=True)\n",
    "    train_data, val_data = cut_data(train_data, train_size)\n",
    "    return train_data, val_data, test_data\n",
    "\n",
    "def inspect(data):\n",
    "    print(f\"Data type: {type(data)}\")\n",
    "    print(f\"Data length: {len(data)}\")\n",
    "    print(f\"Data shape: {data[0][0].shape}\")\n",
    "    \n",
    "def check_data(train_data, val_data, test_data):\n",
    "    inspect(train_data)\n",
    "    inspect(val_data)\n",
    "    inspect(test_data)\n",
    "    # Total de datos\n",
    "    print(f\"Total data: {len(train_data) + len(val_data) + len(test_data)}\\n\")"
   ]
  },
  {
   "cell_type": "code",
   "execution_count": 2,
   "metadata": {},
   "outputs": [
    {
     "name": "stdout",
     "output_type": "stream",
     "text": [
      "Downloading http://fashion-mnist.s3-website.eu-central-1.amazonaws.com/train-images-idx3-ubyte.gz\n",
      "Downloading http://fashion-mnist.s3-website.eu-central-1.amazonaws.com/train-images-idx3-ubyte.gz to data\\FashionMNIST\\raw\\train-images-idx3-ubyte.gz\n"
     ]
    },
    {
     "name": "stderr",
     "output_type": "stream",
     "text": [
      "100.0%\n"
     ]
    },
    {
     "name": "stdout",
     "output_type": "stream",
     "text": [
      "Extracting data\\FashionMNIST\\raw\\train-images-idx3-ubyte.gz to data\\FashionMNIST\\raw\n",
      "\n",
      "Downloading http://fashion-mnist.s3-website.eu-central-1.amazonaws.com/train-labels-idx1-ubyte.gz\n",
      "Downloading http://fashion-mnist.s3-website.eu-central-1.amazonaws.com/train-labels-idx1-ubyte.gz to data\\FashionMNIST\\raw\\train-labels-idx1-ubyte.gz\n"
     ]
    },
    {
     "name": "stderr",
     "output_type": "stream",
     "text": [
      "100.0%\n"
     ]
    },
    {
     "name": "stdout",
     "output_type": "stream",
     "text": [
      "Extracting data\\FashionMNIST\\raw\\train-labels-idx1-ubyte.gz to data\\FashionMNIST\\raw\n",
      "\n",
      "Downloading http://fashion-mnist.s3-website.eu-central-1.amazonaws.com/t10k-images-idx3-ubyte.gz\n",
      "Downloading http://fashion-mnist.s3-website.eu-central-1.amazonaws.com/t10k-images-idx3-ubyte.gz to data\\FashionMNIST\\raw\\t10k-images-idx3-ubyte.gz\n"
     ]
    },
    {
     "name": "stderr",
     "output_type": "stream",
     "text": [
      "100.0%\n"
     ]
    },
    {
     "name": "stdout",
     "output_type": "stream",
     "text": [
      "Extracting data\\FashionMNIST\\raw\\t10k-images-idx3-ubyte.gz to data\\FashionMNIST\\raw\n",
      "\n",
      "Downloading http://fashion-mnist.s3-website.eu-central-1.amazonaws.com/t10k-labels-idx1-ubyte.gz\n",
      "Downloading http://fashion-mnist.s3-website.eu-central-1.amazonaws.com/t10k-labels-idx1-ubyte.gz to data\\FashionMNIST\\raw\\t10k-labels-idx1-ubyte.gz\n"
     ]
    },
    {
     "name": "stderr",
     "output_type": "stream",
     "text": [
      "100.0%\n"
     ]
    },
    {
     "name": "stdout",
     "output_type": "stream",
     "text": [
      "Extracting data\\FashionMNIST\\raw\\t10k-labels-idx1-ubyte.gz to data\\FashionMNIST\\raw\n",
      "\n",
      "Data type: <class 'torch.utils.data.dataset.Subset'>\n",
      "Data length: 48000\n",
      "Data shape: torch.Size([1, 28, 28])\n",
      "Data type: <class 'torch.utils.data.dataset.Subset'>\n",
      "Data length: 12000\n",
      "Data shape: torch.Size([1, 28, 28])\n",
      "Data type: <class 'torchvision.datasets.mnist.FashionMNIST'>\n",
      "Data length: 10000\n",
      "Data shape: torch.Size([1, 28, 28])\n",
      "Total data: 70000\n",
      "\n",
      "Files already downloaded and verified\n",
      "Files already downloaded and verified\n",
      "Data type: <class 'torch.utils.data.dataset.Subset'>\n",
      "Data length: 40000\n",
      "Data shape: torch.Size([3, 32, 32])\n",
      "Data type: <class 'torch.utils.data.dataset.Subset'>\n",
      "Data length: 10000\n",
      "Data shape: torch.Size([3, 32, 32])\n",
      "Data type: <class 'torchvision.datasets.cifar.CIFAR10'>\n",
      "Data length: 10000\n",
      "Data shape: torch.Size([3, 32, 32])\n",
      "Total data: 60000\n",
      "\n"
     ]
    }
   ],
   "source": [
    "train_mnist, val_mnist, test_mnist = get_data_MNIST()\n",
    "check_data(train_mnist, val_mnist, test_mnist)\n",
    "train_cifar10, val_cifar10, test_cifar10 = get_data_CIFAR10()\n",
    "check_data(train_cifar10, val_cifar10, test_cifar10)"
   ]
  },
  {
   "cell_type": "code",
   "execution_count": 3,
   "metadata": {},
   "outputs": [],
   "source": [
    "# Plotear una imagen de ejemplo\n",
    "def plot_image(data, index):\n",
    "    image, label = data[index]\n",
    "    fig = plt.figure(figsize=(5, 5))\n",
    "    # Check rgb or grayscale\n",
    "    if image.shape[0] == 1:\n",
    "        image = image[0]\n",
    "        plt.imshow(image, cmap='gray')\n",
    "    else:\n",
    "        image = image.permute(1, 2, 0)\n",
    "        plt.imshow(image)\n",
    "    plt.title(f\"Label: {label}\")"
   ]
  },
  {
   "cell_type": "code",
   "execution_count": 6,
   "metadata": {},
   "outputs": [
    {
     "name": "stderr",
     "output_type": "stream",
     "text": [
      "Clipping input data to the valid range for imshow with RGB data ([0..1] for floats or [0..255] for integers).\n"
     ]
    },
    {
     "data": {
      "image/png": "[encoded data removed]",
      "text/plain": [
       "<Figure size 500x500 with 1 Axes>"
      ]
     },
     "metadata": {},
     "output_type": "display_data"
    },
    {
     "data": {
      "image/png": "[encoded data removed]",
      "text/plain": [
       "<Figure size 500x500 with 1 Axes>"
      ]
     },
     "metadata": {},
     "output_type": "display_data"
    }
   ],
   "source": [
    "plot_image(train_mnist, 10)\n",
    "plot_image(train_cifar10, 10) "
   ]
  },
  {
   "cell_type": "code",
   "execution_count": 7,
   "metadata": {},
   "outputs": [],
   "source": [
    "# Creamos una capa de convolución\n",
    "\n",
    "class ConvLayer(torch.nn.Module):\n",
    "    def __init__(self, in_channels, out_channels, kernel_size, stride=1, padding='same'):\n",
    "        super(ConvLayer, self).__init__()\n",
    "        self.conv = torch.nn.Conv2d(in_channels, out_channels, kernel_size, stride, padding)\n",
    "        self.relu = torch.nn.ReLU()\n",
    "        \n",
    "    def forward(self, x):\n",
    "        return self.relu(self.conv(x))\n",
    "    \n",
    "# Max Pooling + Batch Normalization + Dropout (opcional)\n",
    "class MaxPoolBN(torch.nn.Module): \n",
    "    def __init__(self, in_channels, kernel_size = 2, stride=2, padding=0, dropout=0.1):\n",
    "        super(MaxPoolBN, self).__init__()\n",
    "        self.max_pool = torch.nn.MaxPool2d(kernel_size, stride, padding)\n",
    "        self.bn = torch.nn.BatchNorm2d(in_channels)\n",
    "        self.dropout = torch.nn.Dropout(dropout)\n",
    "        \n",
    "    def forward(self, x):\n",
    "        return self.dropout(self.bn(self.max_pool(x)))\n",
    "    \n",
    "# Capa densa + dropout (opcional)\n",
    "class Dense(torch.nn.Module):\n",
    "    def __init__(self, in_features, out_features, dropout=0.1):\n",
    "        super(Dense, self).__init__()\n",
    "        self.linear = torch.nn.Linear(in_features, out_features)\n",
    "        self.dropout = torch.nn.Dropout(dropout)\n",
    "        \n",
    "    def forward(self, x):\n",
    "        return self.dropout(self.linear(x))\n",
    "    \n",
    "# structure = [N, L1, k1, ..., Ln, kn], con L la cantidad de capas y k el kernel size\n",
    "class ConvNet(torch.nn.Module):\n",
    "    def __init__(self,in_channels, structure, size, classes):\n",
    "        super(ConvNet, self).__init__()\n",
    "        self.size = size\n",
    "        self.structure = structure\n",
    "        self.L = [structure[i] for i in range(len(structure)) if i % 2 == 1]\n",
    "        self.k = [structure[i] for i in range(len(structure)) if i % 2 == 0 and i != 0]\n",
    "        self.layers = torch.nn.ModuleList()\n",
    "        for i in range(len(self.L)):\n",
    "            if i == 0:\n",
    "                self.layers.append(ConvLayer(in_channels, self.L[i], self.k[i]))\n",
    "                self.layers.append(torch.nn.Dropout(0.1))\n",
    "            else:\n",
    "                self.layers.append(ConvLayer(self.L[i-1], self.L[i], self.k[i]))\n",
    "                self.layers.append(torch.nn.Dropout(0.1))\n",
    "                \n",
    "            # Max pooling en cantidad par de capas \n",
    "            if i % 2 == 1:\n",
    "                self.layers.append(MaxPoolBN(self.L[i], 2))\n",
    "                self.size = self.size // 2\n",
    "                \n",
    "        # Caso impares\n",
    "        if len(self.L) % 2 == 1:\n",
    "            self.layers.append(MaxPoolBN(self.L[-1], 2))\n",
    "            self.size = self.size // 2\n",
    "            \n",
    "        # Cabeza clasificadora\n",
    "        self.layers.append(torch.nn.Flatten())\n",
    "        self.layers.append(Dense(self.L[-1] * self.size * self.size, 128))\n",
    "        self.layers.append(torch.nn.Dropout(0.5))\n",
    "        self.layers.append(Dense(128, classes))\n",
    "        if self.size == 0:\n",
    "            self.size=1       \n",
    "    def forward(self, x):\n",
    "        for layer in self.layers:\n",
    "            x = layer(x)\n",
    "        return x\n",
    "    \n",
    "# Profundidad de CIFAR10 (32/2^4 = 2 -> 4x2 capas convolucionales maximo) depth in [2,8]\n",
    "# E:32 --c1--> 32 --c2--> 32 --MP-->\n",
    "# 16 --c3--> 16 --c4--> 16 --MP-->\n",
    "# 8 --c5--> 8 --c6--> 8 --MP-->\n",
    "# 4 --c7--> 4 --c8--> 4 --MP--> 2 "
   ]
  },
  {
   "cell_type": "code",
   "execution_count": 8,
   "metadata": {},
   "outputs": [
    {
     "name": "stdout",
     "output_type": "stream",
     "text": [
      "Files already downloaded and verified\n",
      "Files already downloaded and verified\n"
     ]
    }
   ],
   "source": [
    "# Probar con un batch de entrada 1 x 1 x 28 x 28\n",
    "# Cargamos el dataset de CIFAR10\n",
    "train_data, val_data, test_data = get_data_CIFAR10()"
   ]
  },
  {
   "cell_type": "code",
   "execution_count": 9,
   "metadata": {},
   "outputs": [
    {
     "name": "stdout",
     "output_type": "stream",
     "text": [
      "Input shape: torch.Size([1, 3, 32, 32])\n",
      "ConvNet(\n",
      "  (layers): ModuleList(\n",
      "    (0): ConvLayer(\n",
      "      (conv): Conv2d(3, 16, kernel_size=(3, 3), stride=(1, 1), padding=same)\n",
      "      (relu): ReLU()\n",
      "    )\n",
      "    (1): Dropout(p=0.1, inplace=False)\n",
      "    (2): ConvLayer(\n",
      "      (conv): Conv2d(16, 32, kernel_size=(5, 5), stride=(1, 1), padding=same)\n",
      "      (relu): ReLU()\n",
      "    )\n",
      "    (3): Dropout(p=0.1, inplace=False)\n",
      "    (4): MaxPoolBN(\n",
      "      (max_pool): MaxPool2d(kernel_size=2, stride=2, padding=0, dilation=1, ceil_mode=False)\n",
      "      (bn): BatchNorm2d(32, eps=1e-05, momentum=0.1, affine=True, track_running_stats=True)\n",
      "      (dropout): Dropout(p=0.1, inplace=False)\n",
      "    )\n",
      "    (5): ConvLayer(\n",
      "      (conv): Conv2d(32, 64, kernel_size=(3, 3), stride=(1, 1), padding=same)\n",
      "      (relu): ReLU()\n",
      "    )\n",
      "    (6): Dropout(p=0.1, inplace=False)\n",
      "    (7): MaxPoolBN(\n",
      "      (max_pool): MaxPool2d(kernel_size=2, stride=2, padding=0, dilation=1, ceil_mode=False)\n",
      "      (bn): BatchNorm2d(64, eps=1e-05, momentum=0.1, affine=True, track_running_stats=True)\n",
      "      (dropout): Dropout(p=0.1, inplace=False)\n",
      "    )\n",
      "    (8): Flatten(start_dim=1, end_dim=-1)\n",
      "    (9): Dense(\n",
      "      (linear): Linear(in_features=4096, out_features=128, bias=True)\n",
      "      (dropout): Dropout(p=0.1, inplace=False)\n",
      "    )\n",
      "    (10): Dropout(p=0.5, inplace=False)\n",
      "    (11): Dense(\n",
      "      (linear): Linear(in_features=128, out_features=10, bias=True)\n",
      "      (dropout): Dropout(p=0.1, inplace=False)\n",
      "    )\n",
      "  )\n",
      ")\n"
     ]
    }
   ],
   "source": [
    "# Creamos el modelo\n",
    "# L = [64, 64, 128, 128, 128, 128, 64, 64]\n",
    "# k = [ 3,  3,   3,   3,   3,   3,  3,  3]\n",
    "# structure = [item for sublist in [[L[i], k[i]] for i in range(len(L)) ] for item in sublist]\n",
    "# structure = [len(structure)//2] + structure\n",
    "structure = [3, 16, 3, 32, 5, 64, 3]\n",
    "\n",
    "# Obtener un ejemplo de entrada\n",
    "x, y = train_data[0]\n",
    "x = x.unsqueeze(0)\n",
    "print(f\"Input shape: {x.shape}\")\n",
    "\n",
    "# Creamos el modelo\n",
    "model = ConvNet(3, structure, size=32, classes=10)\n",
    "print(model)"
   ]
  },
  {
   "cell_type": "code",
   "execution_count": 10,
   "metadata": {},
   "outputs": [
    {
     "data": {
      "text/plain": [
       "[3, 16, 3, 32, 5, 64, 3]"
      ]
     },
     "execution_count": 10,
     "metadata": {},
     "output_type": "execute_result"
    }
   ],
   "source": [
    "structure"
   ]
  },
  {
   "cell_type": "code",
   "execution_count": 11,
   "metadata": {},
   "outputs": [],
   "source": [
    "# Probamos el modelo\n",
    "y_pred = model(x)"
   ]
  },
  {
   "cell_type": "code",
   "execution_count": 89,
   "metadata": {},
   "outputs": [],
   "source": [
    "def run_epoch(model, data_loader, criterion, optimizer, device, train=True):\n",
    "    if train:\n",
    "        model.train()\n",
    "    else:\n",
    "        model.eval()\n",
    "    \n",
    "    loss_total = 0\n",
    "    acc_total = 0\n",
    "    for x, y in data_loader:\n",
    "        # Enviamos los datos al dispositivo\n",
    "        x = x.to(device)\n",
    "        y = y.to(device)\n",
    "        # Forward\n",
    "        with torch.set_grad_enabled(train):\n",
    "            y_pred = model(x)\n",
    "            loss = criterion(y_pred, y)\n",
    "        # Backward\n",
    "        if train:\n",
    "            optimizer.zero_grad()\n",
    "            loss.backward()\n",
    "            optimizer.step()\n",
    "        # Acumulamos los resultados\n",
    "        loss_total += loss.item() * x.size(0)\n",
    "        acc_total += (y_pred.argmax(1) == y).sum().item()\n",
    "    # Promediamos los resultados\n",
    "    loss_total /= len(data_loader.dataset)\n",
    "    acc_total /= len(data_loader.dataset)\n",
    "    return loss_total, acc_total\n",
    "\n",
    "def train_epoch(model, train_loader, val_loader, criterion, optimizer, device):\n",
    "    train_loss, train_acc = run_epoch(model, train_loader, criterion, optimizer, device, train=True)\n",
    "    val_loss, val_acc = run_epoch(model, val_loader, criterion, optimizer, device, train=False)\n",
    "    return train_loss, train_acc, val_loss, val_acc\n",
    "\n",
    "# Entrenar un modelo\n",
    "def train(model, train_data, val_data, epochs=100, batch_size=256, lr=0.001, device='cpu', folder='models', verbose=False):\n",
    "    # Definimos el optimizador\n",
    "    optimizer = torch.optim.Adam(model.parameters(), lr=lr)\n",
    "    # Definimos la función de costo\n",
    "    criterion = torch.nn.CrossEntropyLoss()\n",
    "    # Enviamos el modelo al dispositivo\n",
    "    model.to(device)\n",
    "    # Definimos los dataloaders\n",
    "    train_loader = torch.utils.data.DataLoader(train_data, batch_size=batch_size, shuffle=True)\n",
    "    val_loader = torch.utils.data.DataLoader(val_data, batch_size=batch_size, shuffle=False)\n",
    "    # Definimos las listas para guardar los resultados\n",
    "    train_losses = []\n",
    "    train_accuracies = []\n",
    "    val_losses = []\n",
    "    val_accuracies = []\n",
    "    # Early stopping\n",
    "    epochs_without_improvement = 0\n",
    "    # Entrenamos\n",
    "    for epoch in range(epochs):\n",
    "        # Entrenamos un epoch\n",
    "        train_loss, train_acc, val_loss, val_acc = train_epoch(model, train_loader, val_loader, criterion, optimizer, device)\n",
    "        # Guardamos los resultados\n",
    "        train_losses.append(train_loss)\n",
    "        train_accuracies.append(train_acc)\n",
    "        val_losses.append(val_loss)\n",
    "        val_accuracies.append(val_acc)\n",
    "        # Si mejora el resultado, guardamos el modelo\n",
    "        best_val_loss = np.min(val_losses)\n",
    "        if val_loss > best_val_loss:\n",
    "            torch.save(model.state_dict(), f\"{folder}/model.pth\")\n",
    "            epochs_without_improvement = 0\n",
    "        else:\n",
    "            epochs_without_improvement += 1\n",
    "        # Si no mejora el resultado durante 5 epochs, detenemos el entrenamiento\n",
    "        if epochs_without_improvement == 5:\n",
    "            print(f\"Training stopped at epoch {epoch+1}\")\n",
    "            break\n",
    "        # Imprimimos los resultados\n",
    "        if verbose:\n",
    "            print(f\"Epoch {epoch+1}/{epochs}:\")\n",
    "            print(f\"Train loss: {train_loss:.4f} - Train acc: {train_acc:.4f}\")\n",
    "            print(f\"Val loss: {val_loss:.4f} - Val acc: {val_acc:.4f}\")\n",
    "    return train_losses, train_accuracies, val_losses, val_accuracies"
   ]
  },
  {
   "cell_type": "code",
   "execution_count": null,
   "metadata": {},
   "outputs": [],
   "source": [
    "# Entrenamos el modelo\n",
    "train_losses, train_accuracies, val_losses, val_accuracies = train(model, train_data, val_data, epochs=1, batch_size=256, lr=0.001, device='cuda')"
   ]
  },
  {
   "cell_type": "code",
   "execution_count": 101,
   "metadata": {},
   "outputs": [],
   "source": [
    "def cromosome_to_model(cromosome, in_channels, size, classes):\n",
    "    model = ConvNet(in_channels, cromosome, size=size, classes=classes)\n",
    "    return model\n",
    "\n",
    "def mutate_cromosome(cromosome, depths, filters, kernel_sizes):\n",
    "    if np.random.rand() < 0.5: # Mutación de profundidad\n",
    "        current_depth = cromosome[0]\n",
    "        new_depth = np.random.choice(depths)\n",
    "        for i in range(abs(new_depth - current_depth)):\n",
    "            if new_depth > current_depth:\n",
    "                cromosome += [np.random.choice(filters), np.random.choice(kernel_sizes)]\n",
    "            else:\n",
    "                cromosome = cromosome[:-2]\n",
    "        cromosome[0] = new_depth\n",
    "    else: # Mutación de un filtro o kernel size (impar: filtro, par: kernel size)\n",
    "        pos = np.random.randint(1, len(cromosome))\n",
    "        cromosome[pos] = np.random.choice(filters) if pos % 2 == 1 else np.random.choice(kernel_sizes)\n",
    "    return cromosome\n",
    "\n",
    "def sequential_crossover(cromosome1, cromosome2):\n",
    "    pos = np.random.randint(1, len(cromosome1))\n",
    "    pos = pos if pos % 2 == 1 else pos -1\n",
    "    cromosome1[pos:], cromosome2[pos:] = cromosome2[pos:], cromosome1[pos:]\n",
    "    cromosome1[0], cromosome2[0] = len(cromosome1[1:])//2, len(cromosome2[1:])//2\n",
    "    return cromosome1, cromosome2\n",
    "\n",
    "def binary_crossover(cromosome1, cromosome2):\n",
    "    # Lista binaria de len(cromosome)-1\n",
    "    binary_list = [np.random.randint(0, 2) for _ in range(min(len(cromosome1[1:]),len(cromosome2[1:])))] \n",
    "    # Realizamos el crossover\n",
    "    for i in range(0,len(binary_list)):\n",
    "        if binary_list[i] == 1:\n",
    "            cromosome1[i+1], cromosome2[i+1] = cromosome2[i+1], cromosome1[i+1]\n",
    "    return cromosome1, cromosome2\n",
    "\n",
    "def wheel_selection(population, fitness, prob):\n",
    "    print(\"Wheel selection...\")\n",
    "    parent1 = population[np.random.choice(len(population), p=fitness)]\n",
    "    parent2 = population[np.random.choice(len(population), p=fitness)]\n",
    "    if prob < np.random.rand(): # Crossover secuencial\n",
    "        return sequential_crossover(parent1, parent2)\n",
    "    else: # Crossover binario\n",
    "        return binary_crossover(parent1, parent2)\n",
    "\n",
    "def evaluate_total_cromosome(cromosome, train_data, val_data, in_channels, size, classes, epochs=100, batch_size=256, lr=0.001, device='cpu', folder='models'):\n",
    "    # Creamos el modelo\n",
    "    model = cromosome_to_model(cromosome, in_channels, size, classes)\n",
    "    # Entrenamos el modelo\n",
    "    return train(model, train_data, val_data, epochs=epochs, batch_size=batch_size, lr=lr, device=device, folder=folder)\n",
    "\n",
    "def evaluate_cromosome(cromosome, train_data, val_data, in_channels, size, classes, epochs=100, batch_size=256, lr=0.001, device='cpu', folder='models'):\n",
    "    _, _, _, val_accuracies = evaluate_total_cromosome(cromosome, train_data, val_data, in_channels, size, classes, epochs=epochs, batch_size=batch_size, lr=lr, device=device, folder=folder)\n",
    "    return max(val_accuracies)\n",
    "\n",
    "def generate_population(depths, filters, kernel_sizes, population_size):\n",
    "    population = []\n",
    "    for i in range(population_size):\n",
    "        depth = np.random.choice(depths)\n",
    "        filters = np.random.choice(filters, size=depth)\n",
    "        kernel_sizes = np.random.choice(kernel_sizes, size=depth)\n",
    "        cromosome = [depth]\n",
    "        for f, k in zip(filters, kernel_sizes): cromosome += [f, k]\n",
    "        population.append(cromosome)\n",
    "    return population\n",
    "\n",
    "def prune_population(next_population, elite, population_size, params):\n",
    "    [depths, filters, kernel_sizes] = params     \n",
    "    if len(next_population) < population_size: # Si faltan cromosomas\n",
    "        next_population += generate_population(depths, filters, kernel_sizes, population_size-len(next_population))\n",
    "    elif len(next_population) > population_size: # Si sobran cromosomas se limita a population_size\n",
    "        indexes = np.random.choice(len(next_population), size=population_size, replace=False)\n",
    "        next_population = [next_population[idx] for idx in indexes]\n",
    "    if elite not in next_population: # Si no está el mejor cromosoma, lo agregamos al azar\n",
    "        next_population[np.random.randint(0, len(next_population))] = elite\n",
    "    return next_population\n",
    "\n",
    "def genetic_algorithm(train_data, val_data, in_channels, size, classes, epochs=1, batch_size=256, lr=0.001, device='cpu', folder='models',\n",
    "                       population_size=10, generations=10, depths=[1, 2, 3, 4, 5], filters=[16, 32, 64, 128, 256], kernel_sizes=[3, 5], final_epochs=15):\n",
    "    # Utils para entrenar el modelo y crearlo\n",
    "    conv_arguments = [train_data, val_data, in_channels, size, classes, epochs, batch_size, lr, device, folder]\n",
    "    conv_params = [depths, filters, kernel_sizes]\n",
    "    generations_list = []\n",
    "    val_accuracy_list = []\n",
    "    population = generate_population(depths, filters, kernel_sizes, population_size)\n",
    "    for generation in range(generations): # Entrenamos la población\n",
    "        generations_list.append(population)\n",
    "        cross_prob = generation/generations\n",
    "        mutation_prob = 1 - cross_prob\n",
    "        print(f\"Generation {generation+1}/{generations}:\", population)\n",
    "        val_accuracy = []\n",
    "        for idx, cromosome in enumerate(population): # Evaluamos cada cromosoma\n",
    "            val_accuracy += [evaluate_cromosome(cromosome, *conv_arguments)]\n",
    "            print(f\"Validation Accuracy - Cromosome {idx+1}: {val_accuracy[-1]}\")\n",
    "        val_accuracy_list.append(val_accuracy)\n",
    "        if generation < generations//2: # Fitness al comienzo\n",
    "            fitness = np.array(val_accuracy)/sum(val_accuracy)\n",
    "        else: # Ranking + Fitness al final\n",
    "            ranking = np.argsort(val_accuracy)+1\n",
    "            fitness = (len(ranking)+1-ranking)/sum(len(ranking)+1-ranking)\n",
    "\n",
    "        elite = population[np.argmax(val_accuracy)]\n",
    "        children = []\n",
    "        next_population = []\n",
    "        \n",
    "        for cromosome in population:\n",
    "            if np.random.rand() <= cross_prob: # Cross-over\n",
    "                child1, child2 = wheel_selection(population, fitness, generation/generations)\n",
    "                children.append(child1)\n",
    "                children.append(child2)\n",
    "\n",
    "            if generation < generations/2: # Mutación\n",
    "                if np.random.rand() < mutation_prob:\n",
    "                    print(f\"Mutation Cromosome {population.index(cromosome)+1}...\", cromosome, \"-> \", end=\"\")\n",
    "                    cromosome = mutate_cromosome(cromosome, depths, filters, kernel_sizes)\n",
    "                    print(cromosome)\n",
    "                    children.append(cromosome)\n",
    "            else: # Crecimiento: supervivientes + elitismo + hijos\n",
    "                next_population.append(elite)\n",
    "                next_population += children\n",
    "                print(\"Adding survivors...\", sep=\"\")\n",
    "                survivors = []\n",
    "                cumulated_fitness = 0\n",
    "                copy_population = population.copy()\n",
    "                copy_fitness = fitness.copy()\n",
    "                assert len(copy_population) == len(copy_fitness)\n",
    "                while cumulated_fitness < 0.5 and len(copy_population) > 0 and len(copy_fitness) > 0:\n",
    "                    # Elegimos mejor fitness hasta completar 0.5 de la población\n",
    "                    best_current_idx = np.argsort(copy_fitness)[::-1][0]\n",
    "                    survivor = copy_population[best_current_idx]\n",
    "                    survivors.append(survivor)\n",
    "                    cumulated_fitness += copy_fitness[best_current_idx]\n",
    "                    # Lo eliminamos de la lista de candidatos\n",
    "                    del copy_population[best_current_idx]\n",
    "                    np.delete(copy_fitness, best_current_idx)\n",
    "                print(survivors)\n",
    "                    \n",
    "                next_population += survivors\n",
    "                for i in range(len(next_population)): # Aplicamos mutación a la nueva población\n",
    "                    if np.random.rand() < mutation_prob:\n",
    "                        print(f\"Mutation Next Population Cromosome {i+1}...\", next_population[i], \"-> \", end=\"\")\n",
    "                        next_population[i] = mutate_cromosome(next_population[i], depths, filters, kernel_sizes)\n",
    "                        print(next_population[i])\n",
    "                        \n",
    "        # Podamos la población + elitismo\n",
    "        next_population = prune_population(next_population, elite, population_size, conv_params)\n",
    "                \n",
    "        # Actualizamos la población\n",
    "        population = next_population\n",
    "    \n",
    "    # Evaluamos la última generación\n",
    "    print(\"Last Generation - Final Evaluation with\", final_epochs, \"epochs\")\n",
    "    conv_arguments[5] = final_epochs\n",
    "    val_accuracy = []\n",
    "    # Borrar duplicados\n",
    "    print(\"Removing duplicates...\")\n",
    "    population = list(set(tuple(cromosome) for cromosome in population))\n",
    "    population = [list(cromosome) for cromosome in population]\n",
    "    for idx, cromosome in enumerate(population):\n",
    "        val_accuracy += [evaluate_cromosome(cromosome, *conv_arguments)]\n",
    "        print(f\"Validation Accuracy - Cromosome {idx+1}/{len(population)}: {val_accuracy[-1]}\")\n",
    "    # Seleccionamos el mejor cromosoma\n",
    "    best_cromosome = population[np.argmax(val_accuracy)]\n",
    "    return best_cromosome, generations_list, val_accuracy_list"
   ]
  },
  {
   "cell_type": "code",
   "execution_count": 96,
   "metadata": {},
   "outputs": [
    {
     "name": "stdout",
     "output_type": "stream",
     "text": [
      "Generation 1/5: [[3, 64, 3, 64, 3, 16, 3], [4, 64, 3, 64, 3, 16, 3, 64, 3], [3, 16, 3, 64, 3, 64, 3]]\n",
      "Validation Accuracy - Cromosome 1: 0.6166\n",
      "Validation Accuracy - Cromosome 2: 0.6034\n",
      "Validation Accuracy - Cromosome 3: 0.6115\n",
      "Mutation Cromosome 1... [3, 64, 3, 64, 3, 16, 3] -> [3, 64, 3, 64, 3, 16, 3]\n",
      "Mutation Cromosome 2... [4, 64, 3, 64, 3, 16, 3, 64, 3] -> [3, 64, 3, 64, 3, 16, 3]\n",
      "Mutation Cromosome 3... [3, 16, 3, 64, 3, 64, 3] -> [2, 16, 3, 64, 3]\n",
      "Generation 2/5: [[4, 16, 3, 64, 3, 32, 3, 16, 3], [3, 64, 3, 64, 3, 16, 3], [2, 16, 3, 16, 3]]\n",
      "Validation Accuracy - Cromosome 1: 0.6177\n",
      "Validation Accuracy - Cromosome 2: 0.622\n",
      "Validation Accuracy - Cromosome 3: 0.5608\n",
      "Wheel selection...\n",
      "Mutation Cromosome 3... [2, 16, 3, 16, 3] -> [2, 16, 3, 16, 3]\n",
      "Generation 3/5: [[3, 64, 3, 64, 3, 16, 3], [4, 32, 3, 32, 3, 32, 3, 32, 3], [2, 32, 3, 32, 3]]\n",
      "Validation Accuracy - Cromosome 1: 0.6346\n",
      "Validation Accuracy - Cromosome 2: 0.6255\n",
      "Validation Accuracy - Cromosome 3: 0.5803\n",
      "Wheel selection...\n",
      "Mutation Cromosome 1... [4, 64, 3, 32, 3, 32, 3, 32, 3] -> [4, 64, 3, 64, 3, 32, 3, 32, 3]\n",
      "Generation 4/5: [[2, 64, 3, 64, 3], [4, 64, 3, 64, 3, 32, 3, 32, 3], [2, 64, 3, 64, 3]]\n",
      "Validation Accuracy - Cromosome 1: 0.5819\n",
      "Validation Accuracy - Cromosome 2: 0.6308\n",
      "Validation Accuracy - Cromosome 3: 0.5616\n",
      "Wheel selection...\n",
      "Adding survivors...\n",
      "[[4, 64, 3, 64, 3, 32, 3, 32, 3]]\n",
      "Mutation Next Population Cromosome 1... [4, 64, 3, 64, 3, 32, 3, 32, 3] -> [4, 64, 3, 64, 3, 32, 3, 32, 3]\n",
      "Wheel selection...\n",
      "Adding survivors...\n",
      "[[2, 64, 3, 64, 3]]\n",
      "Mutation Next Population Cromosome 2... [2, 64, 3, 64, 3] -> [2, 64, 3, 64, 3]\n",
      "Mutation Next Population Cromosome 4... [2, 64, 3, 64, 3] -> [2, 64, 3, 64, 3]\n",
      "Mutation Next Population Cromosome 6... [2, 64, 3, 64, 3] -> [3, 64, 3, 64, 3, 16, 3]\n",
      "Mutation Next Population Cromosome 8... [2, 64, 3, 64, 3] -> [2, 64, 3, 64, 3]\n",
      "Adding survivors...\n",
      "[[2, 64, 3, 64, 3]]\n",
      "Mutation Next Population Cromosome 2... [3, 64, 3, 64, 3, 16, 3] -> [3, 64, 3, 16, 3, 16, 3]\n",
      "Mutation Next Population Cromosome 3... [4, 64, 3, 64, 3, 32, 3, 32, 3] -> [4, 64, 3, 64, 3, 32, 3, 32, 3]\n",
      "Mutation Next Population Cromosome 4... [2, 64, 3, 64, 3] -> [2, 64, 3, 64, 3]\n",
      "Mutation Next Population Cromosome 5... [2, 64, 3, 64, 3] -> [4, 64, 3, 64, 3, 64, 3, 32, 3]\n",
      "Mutation Next Population Cromosome 9... [4, 64, 3, 64, 3, 32, 3, 32, 3] -> [4, 64, 3, 64, 3, 32, 3, 32, 3]\n",
      "Mutation Next Population Cromosome 10... [4, 64, 3, 64, 3, 64, 3, 32, 3] -> [4, 64, 3, 64, 3, 64, 3, 32, 3]\n",
      "Mutation Next Population Cromosome 11... [4, 64, 3, 64, 3, 64, 3, 32, 3] -> [4, 64, 3, 64, 3, 64, 3, 32, 3]\n",
      "Mutation Next Population Cromosome 12... [3, 64, 3, 16, 3, 16, 3] -> [3, 64, 3, 16, 3, 16, 3]\n",
      "Mutation Next Population Cromosome 13... [4, 64, 3, 64, 3, 32, 3, 32, 3] -> [4, 64, 3, 64, 3, 32, 3, 32, 3]\n",
      "Mutation Next Population Cromosome 14... [4, 64, 3, 64, 3, 64, 3, 32, 3] -> [4, 64, 3, 64, 3, 64, 3, 32, 3]\n",
      "Mutation Next Population Cromosome 16... [4, 64, 3, 64, 3, 64, 3, 32, 3] -> [2, 64, 3, 64, 3]\n",
      "Generation 5/5: [[4, 64, 3, 64, 3, 64, 3, 32, 3], [4, 64, 3, 64, 3, 64, 3, 32, 3], [4, 64, 3, 64, 3, 64, 3, 32, 3]]\n",
      "Validation Accuracy - Cromosome 1: 0.6535\n",
      "Validation Accuracy - Cromosome 2: 0.6063\n",
      "Validation Accuracy - Cromosome 3: 0.6349\n",
      "Wheel selection...\n",
      "Adding survivors...\n",
      "[[4, 64, 3, 64, 3, 64, 3, 32, 3]]\n",
      "Mutation Next Population Cromosome 3... [4, 64, 3, 64, 3, 64, 3, 32, 3] -> [4, 64, 3, 64, 3, 64, 3, 32, 3]\n",
      "Wheel selection...\n",
      "Adding survivors...\n",
      "[[4, 64, 3, 64, 3, 64, 3, 32, 3]]\n",
      "Wheel selection...\n",
      "Adding survivors...\n",
      "[[4, 64, 3, 64, 3, 64, 3, 32, 3]]\n",
      "Mutation Next Population Cromosome 6... [4, 64, 3, 64, 3, 64, 3, 32, 3] -> [3, 64, 3, 64, 3, 64, 3]\n",
      "Mutation Next Population Cromosome 12... [4, 64, 3, 64, 3, 64, 3, 32, 3] -> [4, 64, 3, 64, 3, 64, 3, 32, 3]\n",
      "Mutation Next Population Cromosome 17... [4, 64, 3, 64, 3, 64, 3, 32, 3] -> [2, 64, 3, 64, 3]\n",
      "Last Generation - Final Evaluation with 15 epochs\n",
      "Removing duplicates...\n",
      "Training stopped at epoch 5\n",
      "Validation Accuracy - Cromosome 1/1: 0.7521\n"
     ]
    }
   ],
   "source": [
    "# Entrenar el modelo\n",
    "best_cromosome, generations, accs = genetic_algorithm(train_data,\n",
    "                                    val_data,\n",
    "                                    in_channels = 3,\n",
    "                                    size = 32,\n",
    "                                    classes = 10,\n",
    "                                    epochs = 1,\n",
    "                                    batch_size = 20,\n",
    "                                    lr=0.001,\n",
    "                                    device='cuda',\n",
    "                                    folder='models',\n",
    "                                    population_size=3,\n",
    "                                    generations=5,\n",
    "                                    depths=[2, 3, 4],\n",
    "                                    filters=[16, 32, 64],\n",
    "                                    kernel_sizes=[3])"
   ]
  },
  {
   "cell_type": "code",
   "execution_count": 98,
   "metadata": {},
   "outputs": [
    {
     "data": {
      "text/plain": [
       "[4, 64, 3, 64, 3, 64, 3, 32, 3]"
      ]
     },
     "execution_count": 98,
     "metadata": {},
     "output_type": "execute_result"
    }
   ],
   "source": [
    "best_cromosome"
   ]
  },
  {
   "cell_type": "code",
   "execution_count": 99,
   "metadata": {},
   "outputs": [
    {
     "data": {
      "text/plain": [
       "[[[4, 64, 3, 64, 3, 64, 3, 32, 3],\n",
       "  [4, 64, 3, 64, 3, 16, 3, 64, 3],\n",
       "  [3, 16, 3, 64, 3, 64, 3]],\n",
       " [[4, 16, 3, 64, 3, 32, 3, 16, 3],\n",
       "  [4, 64, 3, 64, 3, 64, 3, 32, 3],\n",
       "  [2, 16, 3, 16, 3]],\n",
       " [[4, 64, 3, 64, 3, 64, 3, 32, 3],\n",
       "  [3, 32, 3, 64, 3, 16, 3],\n",
       "  [2, 32, 3, 32, 3]],\n",
       " [[4, 64, 3, 64, 3, 32, 3, 32, 3],\n",
       "  [4, 64, 3, 64, 3, 64, 3, 32, 3],\n",
       "  [3, 64, 3, 16, 3, 16, 3]],\n",
       " [[4, 64, 3, 64, 3, 64, 3, 32, 3],\n",
       "  [4, 64, 3, 64, 3, 64, 3, 32, 3],\n",
       "  [4, 64, 3, 64, 3, 64, 3, 32, 3]]]"
      ]
     },
     "execution_count": 99,
     "metadata": {},
     "output_type": "execute_result"
    }
   ],
   "source": [
    "generations"
   ]
  },
  {
   "cell_type": "code",
   "execution_count": 108,
   "metadata": {},
   "outputs": [
    {
     "data": {
      "image/png": "[encoded data removed]",
      "text/plain": [
       "<Figure size 1000x500 with 1 Axes>"
      ]
     },
     "metadata": {},
     "output_type": "display_data"
    }
   ],
   "source": [
    "accs\n",
    "# Graficar len(generations) boxplots con los valores de accs\n",
    "\n",
    "fig, ax = plt.subplots(figsize=(10, 5))\n",
    "ax.boxplot(accs)\n",
    "ax.set_xticklabels([f\"Generation {i+1}\" for i in range(len(generations))])\n",
    "ax.set_ylabel(\"Validation Accuracy\")\n",
    "ax.set_xlabel(\"Generations\")\n",
    "ax.set_title(\"Validation Accuracy per Generation\")\n",
    "plt.show()"
   ]
  },
  {
   "cell_type": "code",
   "execution_count": 97,
   "metadata": {},
   "outputs": [
    {
     "data": {
      "text/plain": [
       "[4, 64, 3, 64, 3, 64, 3, 32, 3]"
      ]
     },
     "execution_count": 97,
     "metadata": {},
     "output_type": "execute_result"
    }
   ],
   "source": [
    "best_cromosome"
   ]
  },
  {
   "cell_type": "code",
   "execution_count": 104,
   "metadata": {},
   "outputs": [],
   "source": [
    "# Entrenar el modelo del mejor cromosoma\n",
    "train_losses, train_accs, val_losses, val_accs = evaluate_total_cromosome(best_cromosome,\n",
    "                                                train_data,\n",
    "                                                val_data,\n",
    "                                                in_channels = 3,\n",
    "                                                size = 32,\n",
    "                                                classes = 10,\n",
    "                                                epochs = 100,\n",
    "                                                batch_size = 256,\n",
    "                                                lr=0.001,\n",
    "                                                device='cuda',\n",
    "                                                folder='models')"
   ]
  },
  {
   "cell_type": "code",
   "execution_count": 112,
   "metadata": {},
   "outputs": [
    {
     "name": "stdout",
     "output_type": "stream",
     "text": [
      "Best Validation Accuracy: 0.8175\n",
      "Best Train Accuracy: 0.8729\n"
     ]
    },
    {
     "data": {
      "image/png": "[encoded data removed]",
      "text/plain": [
       "<Figure size 1000x500 with 1 Axes>"
      ]
     },
     "metadata": {},
     "output_type": "display_data"
    }
   ],
   "source": [
    "# Curva de entrenamiento y validación (accuracy)\n",
    "# model = torch.load('models/model.pt') # Modelo que se quiere abrir\n",
    "# model.eval()\n",
    "fig, ax = plt.subplots(figsize=(10, 5))\n",
    "ax.plot(train_accs, label=\"Train Accuracy\")\n",
    "ax.plot(val_accs, label=\"Validation Accuracy\")\n",
    "ax.set_xlabel(\"Epochs\") \n",
    "ax.set_ylabel(\"Accuracy\")\n",
    "ax.set_title(\"Accuracy per Epoch\")\n",
    "ax.grid(True, which=\"both\")\n",
    "ax.legend()\n",
    "print(f\"Best Validation Accuracy: {max(val_accs)}\")\n",
    "print(f\"Best Train Accuracy: {max(train_accs)}\")"
   ]
  }
 ],
 "metadata": {
  "kernelspec": {
   "display_name": ".env",
   "language": "python",
   "name": "python3"
  },
  "language_info": {
   "codemirror_mode": {
    "name": "ipython",
    "version": 3
   },
   "file_extension": ".py",
   "mimetype": "text/x-python",
   "name": "python",
   "nbconvert_exporter": "python",
   "pygments_lexer": "ipython3",
   "version": "3.9.13"
  },
  "orig_nbformat": 4
 },
 "nbformat": 4,
 "nbformat_minor": 2
}
